{
 "cells": [
  {
   "cell_type": "markdown",
   "metadata": {},
   "source": [
    "# Introduction to PostGIS in CyberGISX - Demo"
   ]
  },
  {
   "cell_type": "markdown",
   "metadata": {},
   "source": [
    "Weiye Chen, weiyec2@illinois.edu\n",
    "\n",
    "PostGIS is an extension to the PostgreSQL object-relational database system which allows GIS (Geographic Information Systems) objects to be stored in the database. PostGIS includes support for GiST-based R-Tree spatial indexes, and functions for analysis and processing of GIS objects. \n",
    "\n",
    "Resources for PostGIS:\n",
    "* Manual https://postgis.net/docs/\n",
    "\n",
    "In this demo, we use PostGIS 3.0. Note that significant changes in APIs have been made to PostGIS compared to version 2.x. This demo assumes that you have basic knowledge of SQL. "
   ]
  },
  {
   "cell_type": "markdown",
   "metadata": {},
   "source": [
    "## 0. Configuration of Databases"
   ]
  },
  {
   "cell_type": "markdown",
   "metadata": {},
   "source": [
    "Assuming we have configured the PostgreSQL database, we need to connect to the hosting PostgreSQL Server. To do that, we will use the IPython extension of SQL, and we will load the extension with the Jupyter magic command: "
   ]
  },
  {
   "cell_type": "code",
   "execution_count": 1,
   "metadata": {},
   "outputs": [],
   "source": [
    "%reload_ext sql"
   ]
  },
  {
   "cell_type": "code",
   "execution_count": 2,
   "metadata": {},
   "outputs": [
    {
     "data": {
      "text/plain": [
       "'Connected: @postgisdemo'"
      ]
     },
     "execution_count": 2,
     "metadata": {},
     "output_type": "execute_result"
    }
   ],
   "source": [
    "%sql postgresql://localhost:5432/postgisdemo"
   ]
  },
  {
   "cell_type": "markdown",
   "metadata": {},
   "source": [
    "Creating `postgis` extension for the database. `postgis` is usually an embeded extension in PostgreSQL databases, and it's already preinstalled in the CyberGISX environment. To enable the extension in the newly created database schema, we need to initialize the extension by loading it. A common way to load extension in PostgreSQL is to use `create extension [ext]` command. "
   ]
  },
  {
   "cell_type": "code",
   "execution_count": 3,
   "metadata": {
    "scrolled": true
   },
   "outputs": [
    {
     "name": "stdout",
     "output_type": "stream",
     "text": [
      " * postgresql://localhost:5432/postgisdemo\n",
      "Done.\n",
      "Done.\n"
     ]
    },
    {
     "data": {
      "text/plain": [
       "[]"
      ]
     },
     "execution_count": 3,
     "metadata": {},
     "output_type": "execute_result"
    }
   ],
   "source": [
    "%%sql \n",
    "drop extension if exists postgis cascade;\n",
    "create extension postgis;"
   ]
  },
  {
   "cell_type": "markdown",
   "metadata": {},
   "source": [
    "The connection to the PostgreSQL databases and initialization of the PostGIS extension are all set now. "
   ]
  },
  {
   "cell_type": "markdown",
   "metadata": {},
   "source": [
    "## 1. GIS Objects in PostGIS"
   ]
  },
  {
   "cell_type": "markdown",
   "metadata": {},
   "source": [
    "The GIS objects supported by PostGIS are a superset of the \"Simple Features\" defined by the OpenGIS Consortium (OGC). PostGIS supports all the objects and functions specified in the OGC \"Simple Features for SQL\" specification.\n",
    "\n",
    "The OpenGIS specification defines two standard ways of expressing spatial objects: the Well-Known Text (WKT) form and the Well-Known Binary (WKB) form. Both WKT and WKB include information about the type of the object and the coordinates which form the object.\n",
    "\n",
    "Examples of the text representations (WKT) of the spatial objects of the features are as follows:\n",
    "\n",
    "* `POINT(0 0)`\n",
    "\n",
    "* `LINESTRING(0 0,1 1,1 2)`\n",
    "\n",
    "* `POLYGON((0 0,4 0,4 4,0 4,0 0),(1 1, 2 1, 2 2, 1 2,1 1))`\n",
    "\n",
    "* `MULTIPOINT((0 0),(1 2))`\n",
    "\n",
    "* `MULTILINESTRING((0 0,1 1,1 2),(2 3,3 2,5 4))`\n",
    "\n",
    "* `MULTIPOLYGON(((0 0,4 0,4 4,0 4,0 0),(1 1,2 1,2 2,1 2,1 1)), ((-1 -1,-1 -2,-2 -2,-2 -1,-1 -1)))`\n",
    "\n",
    "* `GEOMETRYCOLLECTION(POINT(2 3),LINESTRING(2 3,3 4))`"
   ]
  },
  {
   "cell_type": "markdown",
   "metadata": {},
   "source": [
    "### 1.1 Creation of GIS Objects in PostGIS\n",
    "We could generate those objects with PostGIS functions:"
   ]
  },
  {
   "cell_type": "markdown",
   "metadata": {},
   "source": [
    "Generating a Point with [`ST_Point`](https://postgis.net/docs/ST_Point.html): (`ST_AsText` would convert the geometries to well-known text)"
   ]
  },
  {
   "cell_type": "code",
   "execution_count": 4,
   "metadata": {},
   "outputs": [
    {
     "name": "stdout",
     "output_type": "stream",
     "text": [
      " * postgresql://localhost:5432/postgisdemo\n",
      "1 rows affected.\n"
     ]
    },
    {
     "data": {
      "text/html": [
       "<table>\n",
       "    <tr>\n",
       "        <th>st_astext</th>\n",
       "    </tr>\n",
       "    <tr>\n",
       "        <td>POINT(0 0)</td>\n",
       "    </tr>\n",
       "</table>"
      ],
      "text/plain": [
       "[('POINT(0 0)',)]"
      ]
     },
     "execution_count": 4,
     "metadata": {},
     "output_type": "execute_result"
    }
   ],
   "source": [
    "%sql SELECT ST_AsText(ST_Point(0, 0))"
   ]
  },
  {
   "cell_type": "markdown",
   "metadata": {},
   "source": [
    "Make a LineString with [`ST_MakeLine`](https://postgis.net/docs/ST_MakeLine.html):"
   ]
  },
  {
   "cell_type": "code",
   "execution_count": 5,
   "metadata": {
    "scrolled": true
   },
   "outputs": [
    {
     "name": "stdout",
     "output_type": "stream",
     "text": [
      " * postgresql://localhost:5432/postgisdemo\n",
      "1 rows affected.\n"
     ]
    },
    {
     "data": {
      "text/html": [
       "<table>\n",
       "    <tr>\n",
       "        <th>st_astext</th>\n",
       "    </tr>\n",
       "    <tr>\n",
       "        <td>LINESTRING(0 0,1 1,1 2)</td>\n",
       "    </tr>\n",
       "</table>"
      ],
      "text/plain": [
       "[('LINESTRING(0 0,1 1,1 2)',)]"
      ]
     },
     "execution_count": 5,
     "metadata": {},
     "output_type": "execute_result"
    }
   ],
   "source": [
    "%sql SELECT ST_AsText(ST_MakeLine(ARRAY[ST_Point(0, 0), ST_Point(1, 1), ST_Point(1, 2)]))"
   ]
  },
  {
   "cell_type": "markdown",
   "metadata": {},
   "source": [
    "Or just use WKT to make a line:"
   ]
  },
  {
   "cell_type": "code",
   "execution_count": 6,
   "metadata": {
    "scrolled": true
   },
   "outputs": [
    {
     "name": "stdout",
     "output_type": "stream",
     "text": [
      " * postgresql://localhost:5432/postgisdemo\n",
      "1 rows affected.\n"
     ]
    },
    {
     "data": {
      "text/html": [
       "<table>\n",
       "    <tr>\n",
       "        <th>st_astext</th>\n",
       "    </tr>\n",
       "    <tr>\n",
       "        <td>LINESTRING(0 0,1 1,1 2)</td>\n",
       "    </tr>\n",
       "</table>"
      ],
      "text/plain": [
       "[('LINESTRING(0 0,1 1,1 2)',)]"
      ]
     },
     "execution_count": 6,
     "metadata": {},
     "output_type": "execute_result"
    }
   ],
   "source": [
    "%sql SELECT ST_AsText(ST_LineFromText('LINESTRING(0 0,1 1,1 2)'))"
   ]
  },
  {
   "cell_type": "markdown",
   "metadata": {},
   "source": [
    "To construct a polygon, we could use [`ST_Polygon`](https://postgis.net/docs/ST_Polygon.html)"
   ]
  },
  {
   "cell_type": "code",
   "execution_count": 7,
   "metadata": {},
   "outputs": [
    {
     "name": "stdout",
     "output_type": "stream",
     "text": [
      " * postgresql://localhost:5432/postgisdemo\n",
      "1 rows affected.\n"
     ]
    },
    {
     "data": {
      "text/html": [
       "<table>\n",
       "    <tr>\n",
       "        <th>st_astext</th>\n",
       "    </tr>\n",
       "    <tr>\n",
       "        <td>POLYGON((75 29,77 29,77 29,75 29))</td>\n",
       "    </tr>\n",
       "</table>"
      ],
      "text/plain": [
       "[('POLYGON((75 29,77 29,77 29,75 29))',)]"
      ]
     },
     "execution_count": 7,
     "metadata": {},
     "output_type": "execute_result"
    }
   ],
   "source": [
    "%sql SELECT ST_AsText(ST_Polygon('LINESTRING(75 29, 77 29, 77 29, 75 29)'::geometry, 4326) );"
   ]
  },
  {
   "cell_type": "markdown",
   "metadata": {},
   "source": [
    "[`ST_GeomFromText`](https://postgis.net/docs/ST_GeomFromText.html) provides a good way to construct any geometry from WKT"
   ]
  },
  {
   "cell_type": "code",
   "execution_count": 8,
   "metadata": {
    "scrolled": false
   },
   "outputs": [
    {
     "name": "stdout",
     "output_type": "stream",
     "text": [
      " * postgresql://localhost:5432/postgisdemo\n",
      "1 rows affected.\n"
     ]
    },
    {
     "data": {
      "text/html": [
       "<table>\n",
       "    <tr>\n",
       "        <th>st_astext</th>\n",
       "    </tr>\n",
       "    <tr>\n",
       "        <td>MULTIPOLYGON(((0 0,4 0,4 4,0 4,0 0),(1 1,2 1,2 2,1 2,1 1)),((-1 -1,-1 -2,-2 -2,-2 -1,-1 -1)))</td>\n",
       "    </tr>\n",
       "</table>"
      ],
      "text/plain": [
       "[('MULTIPOLYGON(((0 0,4 0,4 4,0 4,0 0),(1 1,2 1,2 2,1 2,1 1)),((-1 -1,-1 -2,-2 -2,-2 -1,-1 -1)))',)]"
      ]
     },
     "execution_count": 8,
     "metadata": {},
     "output_type": "execute_result"
    }
   ],
   "source": [
    "%sql SELECT ST_AsText(ST_GeomFromText('MULTIPOLYGON(((0 0,4 0,4 4,0 4,0 0),(1 1,2 1,2 2,1 2,1 1)), ((-1 -1,-1 -2,-2 -2,-2 -1,-1 -1)))'))"
   ]
  },
  {
   "cell_type": "markdown",
   "metadata": {},
   "source": [
    "To make a geometry collection or a multi-geometry, like multi-point, we may use [`ST_Collect`](https://postgis.net/docs/ST_Collect.html)."
   ]
  },
  {
   "cell_type": "code",
   "execution_count": 9,
   "metadata": {},
   "outputs": [
    {
     "name": "stdout",
     "output_type": "stream",
     "text": [
      " * postgresql://localhost:5432/postgisdemo\n",
      "1 rows affected.\n"
     ]
    },
    {
     "data": {
      "text/html": [
       "<table>\n",
       "    <tr>\n",
       "        <th>st_astext</th>\n",
       "    </tr>\n",
       "    <tr>\n",
       "        <td>MULTIPOINT(0 0,1 1,1 2)</td>\n",
       "    </tr>\n",
       "</table>"
      ],
      "text/plain": [
       "[('MULTIPOINT(0 0,1 1,1 2)',)]"
      ]
     },
     "execution_count": 9,
     "metadata": {},
     "output_type": "execute_result"
    }
   ],
   "source": [
    "%sql SELECT ST_AsText(ST_Collect(ARRAY[ST_Point(0, 0), ST_Point(1, 1), ST_Point(1, 2)]))"
   ]
  },
  {
   "cell_type": "markdown",
   "metadata": {},
   "source": [
    "### 1.2 Get GIS Objects into Databases"
   ]
  },
  {
   "cell_type": "markdown",
   "metadata": {},
   "source": [
    "In the previous database we created with `postgis` extension, we can create a table for our GIS object. The `postgis` extension create a new data type in PostgreSQL named `geometry`. In fact, a lot of aforementioned functions return objects of type `geometry` (e.g. `ST_Point`, `ST_MakeLine`)."
   ]
  },
  {
   "cell_type": "markdown",
   "metadata": {},
   "source": [
    "Now we want to create a table which contains a attribute of `geometry` type. With `%%sql` cell magic of Jupyter Notebook, we can write SQL scripts without having to have `%sql` command in front of every SQL command. The table creation follows the PostgreSQL standard."
   ]
  },
  {
   "cell_type": "code",
   "execution_count": 10,
   "metadata": {},
   "outputs": [
    {
     "name": "stdout",
     "output_type": "stream",
     "text": [
      " * postgresql://localhost:5432/postgisdemo\n",
      "Done.\n",
      "Done.\n"
     ]
    },
    {
     "data": {
      "text/plain": [
       "[]"
      ]
     },
     "execution_count": 10,
     "metadata": {},
     "output_type": "execute_result"
    }
   ],
   "source": [
    "%%sql\n",
    "drop table if exists gis_example;\n",
    "\n",
    "create table gis_example(\n",
    "    id serial primary key,\n",
    "    geom geometry\n",
    ");"
   ]
  },
  {
   "cell_type": "markdown",
   "metadata": {},
   "source": [
    "Insert a point to the newly created table `gis_example`. "
   ]
  },
  {
   "cell_type": "code",
   "execution_count": 11,
   "metadata": {},
   "outputs": [
    {
     "name": "stdout",
     "output_type": "stream",
     "text": [
      " * postgresql://localhost:5432/postgisdemo\n",
      "1 rows affected.\n",
      "1 rows affected.\n"
     ]
    },
    {
     "data": {
      "text/html": [
       "<table>\n",
       "    <tr>\n",
       "        <th>geom</th>\n",
       "    </tr>\n",
       "    <tr>\n",
       "        <td>POINT(0 1)</td>\n",
       "    </tr>\n",
       "</table>"
      ],
      "text/plain": [
       "[('POINT(0 1)',)]"
      ]
     },
     "execution_count": 11,
     "metadata": {},
     "output_type": "execute_result"
    }
   ],
   "source": [
    "%%sql\n",
    "insert into gis_example(geom) values (ST_Point(0, 1));\n",
    "select ST_AsText(geom) as geom from gis_example;"
   ]
  },
  {
   "cell_type": "markdown",
   "metadata": {},
   "source": [
    "We can insert multiple entries into the table at the same time. "
   ]
  },
  {
   "cell_type": "code",
   "execution_count": 12,
   "metadata": {},
   "outputs": [
    {
     "name": "stdout",
     "output_type": "stream",
     "text": [
      " * postgresql://localhost:5432/postgisdemo\n",
      "2 rows affected.\n",
      "3 rows affected.\n"
     ]
    },
    {
     "data": {
      "text/html": [
       "<table>\n",
       "    <tr>\n",
       "        <th>geom</th>\n",
       "    </tr>\n",
       "    <tr>\n",
       "        <td>POINT(0 1)</td>\n",
       "    </tr>\n",
       "    <tr>\n",
       "        <td>LINESTRING(0 0,1 1,1 2)</td>\n",
       "    </tr>\n",
       "    <tr>\n",
       "        <td>POLYGON((75 29,77 29,77 29,75 29))</td>\n",
       "    </tr>\n",
       "</table>"
      ],
      "text/plain": [
       "[('POINT(0 1)',),\n",
       " ('LINESTRING(0 0,1 1,1 2)',),\n",
       " ('POLYGON((75 29,77 29,77 29,75 29))',)]"
      ]
     },
     "execution_count": 12,
     "metadata": {},
     "output_type": "execute_result"
    }
   ],
   "source": [
    "%%sql\n",
    "insert into gis_example(geom) values\n",
    "    (ST_MakeLine(ARRAY[ST_Point(0, 0), ST_Point(1, 1), ST_Point(1, 2)])),\n",
    "    (ST_MakePolygon('LINESTRING(75 29, 77 29, 77 29, 75 29)'::geometry))\n",
    ";\n",
    "select ST_AsText(geom) as geom from gis_example;"
   ]
  },
  {
   "cell_type": "markdown",
   "metadata": {},
   "source": [
    "## 2. Import Vector GIS Data to PostGIS"
   ]
  },
  {
   "cell_type": "markdown",
   "metadata": {},
   "source": [
    "In this section, we will give some examples of loading shapefiles to the PostgreSQL database with PostGIS and GeoPandas. \n",
    "\n",
    "We have preprocessed the OpenStreetMap data within the extent of University of Illinois, Urbana-Champaign, and saved them as shapefiles. We will use these data for this demo. "
   ]
  },
  {
   "cell_type": "code",
   "execution_count": 13,
   "metadata": {},
   "outputs": [],
   "source": [
    "from geopandas import gpd, GeoDataFrame, read_file"
   ]
  },
  {
   "cell_type": "markdown",
   "metadata": {},
   "source": [
    "### 2.1 Import point based data"
   ]
  },
  {
   "cell_type": "code",
   "execution_count": 14,
   "metadata": {
    "scrolled": true
   },
   "outputs": [
    {
     "data": {
      "text/html": [
       "<div>\n",
       "<style scoped>\n",
       "    .dataframe tbody tr th:only-of-type {\n",
       "        vertical-align: middle;\n",
       "    }\n",
       "\n",
       "    .dataframe tbody tr th {\n",
       "        vertical-align: top;\n",
       "    }\n",
       "\n",
       "    .dataframe thead th {\n",
       "        text-align: right;\n",
       "    }\n",
       "</style>\n",
       "<table border=\"1\" class=\"dataframe\">\n",
       "  <thead>\n",
       "    <tr style=\"text-align: right;\">\n",
       "      <th></th>\n",
       "      <th>name</th>\n",
       "      <th>highway</th>\n",
       "      <th>geometry</th>\n",
       "    </tr>\n",
       "  </thead>\n",
       "  <tbody>\n",
       "    <tr>\n",
       "      <th>0</th>\n",
       "      <td>None</td>\n",
       "      <td>stop</td>\n",
       "      <td>POINT (-88.20886 40.10922)</td>\n",
       "    </tr>\n",
       "    <tr>\n",
       "      <th>1</th>\n",
       "      <td>None</td>\n",
       "      <td>traffic_signals</td>\n",
       "      <td>POINT (-88.21927 40.10907)</td>\n",
       "    </tr>\n",
       "    <tr>\n",
       "      <th>2</th>\n",
       "      <td>None</td>\n",
       "      <td>traffic_signals</td>\n",
       "      <td>POINT (-88.23040 40.11029)</td>\n",
       "    </tr>\n",
       "    <tr>\n",
       "      <th>3</th>\n",
       "      <td>None</td>\n",
       "      <td>traffic_signals</td>\n",
       "      <td>POINT (-88.23026 40.10415)</td>\n",
       "    </tr>\n",
       "    <tr>\n",
       "      <th>4</th>\n",
       "      <td>None</td>\n",
       "      <td>traffic_signals</td>\n",
       "      <td>POINT (-88.22397 40.11278)</td>\n",
       "    </tr>\n",
       "  </tbody>\n",
       "</table>\n",
       "</div>"
      ],
      "text/plain": [
       "   name          highway                    geometry\n",
       "0  None             stop  POINT (-88.20886 40.10922)\n",
       "1  None  traffic_signals  POINT (-88.21927 40.10907)\n",
       "2  None  traffic_signals  POINT (-88.23040 40.11029)\n",
       "3  None  traffic_signals  POINT (-88.23026 40.10415)\n",
       "4  None  traffic_signals  POINT (-88.22397 40.11278)"
      ]
     },
     "execution_count": 14,
     "metadata": {},
     "output_type": "execute_result"
    }
   ],
   "source": [
    "data_path = \"UIUC_osm\"\n",
    "uiuc_pts = read_file(data_path + \"/UIUC_pts.shp\")\n",
    "uiuc_pts.head()"
   ]
  },
  {
   "cell_type": "markdown",
   "metadata": {},
   "source": [
    "Now we want to dump the geopandas data frame to a csv file so that we could use PostgreSQL to read the table. "
   ]
  },
  {
   "cell_type": "code",
   "execution_count": 15,
   "metadata": {},
   "outputs": [],
   "source": [
    "uiuc_pts.to_csv(\"UIUC_osm/UIUC_pts.csv\", index = False)"
   ]
  },
  {
   "cell_type": "code",
   "execution_count": 16,
   "metadata": {},
   "outputs": [
    {
     "data": {
      "text/plain": [
       "'/Users/weiye/Codings/2020/CyberGIS-Jupyter/PostGIS_Intro/UIUC_osm/UIUC_pts.csv'"
      ]
     },
     "execution_count": 16,
     "metadata": {},
     "output_type": "execute_result"
    }
   ],
   "source": [
    "data_path = !pwd UIUC_osm/UIUC_pts.csv\n",
    "data_path = data_path[0] + \"/\" + \"UIUC_osm/UIUC_pts.csv\"\n",
    "data_path"
   ]
  },
  {
   "cell_type": "markdown",
   "metadata": {},
   "source": [
    "Now that a csv file is created, we want to create a table in the database to store the points of interest in the UIUC."
   ]
  },
  {
   "cell_type": "code",
   "execution_count": 17,
   "metadata": {},
   "outputs": [
    {
     "name": "stdout",
     "output_type": "stream",
     "text": [
      " * postgresql://localhost:5432/postgisdemo\n",
      "Done.\n",
      "Done.\n"
     ]
    },
    {
     "data": {
      "text/plain": [
       "[]"
      ]
     },
     "execution_count": 17,
     "metadata": {},
     "output_type": "execute_result"
    }
   ],
   "source": [
    "%%sql\n",
    "drop table if exists uiuc_pts;\n",
    "create table uiuc_pts(\n",
    "    id serial primary key,\n",
    "    name text,\n",
    "    type text,\n",
    "    geom_text text,\n",
    "    geom geometry(Point, 4326),\n",
    "    geog geography\n",
    ");"
   ]
  },
  {
   "cell_type": "code",
   "execution_count": 18,
   "metadata": {},
   "outputs": [
    {
     "name": "stdout",
     "output_type": "stream",
     "text": [
      " * postgresql://localhost:5432/postgisdemo\n",
      "1495 rows affected.\n"
     ]
    },
    {
     "data": {
      "text/plain": [
       "[]"
      ]
     },
     "execution_count": 18,
     "metadata": {},
     "output_type": "execute_result"
    }
   ],
   "source": [
    "query = \"\"\"\n",
    "copy uiuc_pts(name, type, geom_text)\n",
    "from '{}' delimiter ',' csv header;\n",
    "\"\"\".format(data_path)\n",
    "\n",
    "%sql $query"
   ]
  },
  {
   "cell_type": "code",
   "execution_count": 19,
   "metadata": {},
   "outputs": [
    {
     "name": "stdout",
     "output_type": "stream",
     "text": [
      " * postgresql://localhost:5432/postgisdemo\n",
      "1495 rows affected.\n",
      "Done.\n"
     ]
    },
    {
     "data": {
      "text/plain": [
       "[]"
      ]
     },
     "execution_count": 19,
     "metadata": {},
     "output_type": "execute_result"
    }
   ],
   "source": [
    "%%sql\n",
    "UPDATE uiuc_pts\n",
    "SET geom = ST_SetSRID(ST_GeomFromText(geom_text), 4326),\n",
    "    geog = geom::geography;\n",
    "\n",
    "ALTER TABLE uiuc_pts\n",
    "DROP geom_text;"
   ]
  },
  {
   "cell_type": "code",
   "execution_count": 20,
   "metadata": {},
   "outputs": [
    {
     "name": "stdout",
     "output_type": "stream",
     "text": [
      " * postgresql://localhost:5432/postgisdemo\n",
      "1201 rows affected.\n"
     ]
    },
    {
     "data": {
      "text/plain": [
       "[]"
      ]
     },
     "execution_count": 20,
     "metadata": {},
     "output_type": "execute_result"
    }
   ],
   "source": [
    "%%sql\n",
    "DELETE from uiuc_pts where name is null;"
   ]
  },
  {
   "cell_type": "code",
   "execution_count": 21,
   "metadata": {},
   "outputs": [
    {
     "name": "stdout",
     "output_type": "stream",
     "text": [
      " * postgresql://localhost:5432/postgisdemo\n",
      "10 rows affected.\n"
     ]
    },
    {
     "data": {
      "text/html": [
       "<table>\n",
       "    <tr>\n",
       "        <th>name</th>\n",
       "        <th>st_astext</th>\n",
       "    </tr>\n",
       "    <tr>\n",
       "        <td>Mile 1</td>\n",
       "        <td>POINT(-88.2386997 40.1090201)</td>\n",
       "    </tr>\n",
       "    <tr>\n",
       "        <td>WPGU-FM (Urbana)</td>\n",
       "        <td>POINT(-88.2325805 40.110428)</td>\n",
       "    </tr>\n",
       "    <tr>\n",
       "        <td>La Casa Cultural Latina</td>\n",
       "        <td>POINT(-88.23116 40.1072538)</td>\n",
       "    </tr>\n",
       "    <tr>\n",
       "        <td>Wardall Hall</td>\n",
       "        <td>POINT(-88.2217719 40.109536)</td>\n",
       "    </tr>\n",
       "    <tr>\n",
       "        <td>Townsend Hall</td>\n",
       "        <td>POINT(-88.2206535 40.1098519)</td>\n",
       "    </tr>\n",
       "    <tr>\n",
       "        <td>Beckwith Hall</td>\n",
       "        <td>POINT(-88.2366958 40.1087613)</td>\n",
       "    </tr>\n",
       "    <tr>\n",
       "        <td>Krannert Art Museum</td>\n",
       "        <td>POINT(-88.2314378 40.101976)</td>\n",
       "    </tr>\n",
       "    <tr>\n",
       "        <td>University of Illinois College of Law</td>\n",
       "        <td>POINT(-88.2315062 40.1010097)</td>\n",
       "    </tr>\n",
       "    <tr>\n",
       "        <td>Alma Mater</td>\n",
       "        <td>POINT(-88.2283814 40.1099142)</td>\n",
       "    </tr>\n",
       "    <tr>\n",
       "        <td>Caffe Paradiso</td>\n",
       "        <td>POINT(-88.2194361 40.1057621)</td>\n",
       "    </tr>\n",
       "</table>"
      ],
      "text/plain": [
       "[('Mile 1', 'POINT(-88.2386997 40.1090201)'),\n",
       " ('WPGU-FM (Urbana)', 'POINT(-88.2325805 40.110428)'),\n",
       " ('La Casa Cultural Latina', 'POINT(-88.23116 40.1072538)'),\n",
       " ('Wardall Hall', 'POINT(-88.2217719 40.109536)'),\n",
       " ('Townsend Hall', 'POINT(-88.2206535 40.1098519)'),\n",
       " ('Beckwith Hall', 'POINT(-88.2366958 40.1087613)'),\n",
       " ('Krannert Art Museum', 'POINT(-88.2314378 40.101976)'),\n",
       " ('University of Illinois College of Law', 'POINT(-88.2315062 40.1010097)'),\n",
       " ('Alma Mater', 'POINT(-88.2283814 40.1099142)'),\n",
       " ('Caffe Paradiso', 'POINT(-88.2194361 40.1057621)')]"
      ]
     },
     "execution_count": 21,
     "metadata": {},
     "output_type": "execute_result"
    }
   ],
   "source": [
    "%sql SELECT name, ST_AsText(geom) from uiuc_pts LIMIT 10"
   ]
  },
  {
   "cell_type": "markdown",
   "metadata": {},
   "source": [
    "### 2.2 Import Bus Route (LineStrings)"
   ]
  },
  {
   "cell_type": "code",
   "execution_count": 22,
   "metadata": {},
   "outputs": [
    {
     "name": "stdout",
     "output_type": "stream",
     "text": [
      " * postgresql://localhost:5432/postgisdemo\n",
      "Done.\n",
      "Done.\n"
     ]
    },
    {
     "data": {
      "text/plain": [
       "[]"
      ]
     },
     "execution_count": 22,
     "metadata": {},
     "output_type": "execute_result"
    }
   ],
   "source": [
    "%%sql\n",
    "drop table if exists uiuc_bus;\n",
    "create table uiuc_bus(\n",
    "    id serial primary key,\n",
    "    name text,\n",
    "    geom_text text,\n",
    "    geom geometry(MultiLineString,4326),\n",
    "    geog geography\n",
    ");"
   ]
  },
  {
   "cell_type": "code",
   "execution_count": 23,
   "metadata": {},
   "outputs": [
    {
     "data": {
      "text/html": [
       "<div>\n",
       "<style scoped>\n",
       "    .dataframe tbody tr th:only-of-type {\n",
       "        vertical-align: middle;\n",
       "    }\n",
       "\n",
       "    .dataframe tbody tr th {\n",
       "        vertical-align: top;\n",
       "    }\n",
       "\n",
       "    .dataframe thead th {\n",
       "        text-align: right;\n",
       "    }\n",
       "</style>\n",
       "<table border=\"1\" class=\"dataframe\">\n",
       "  <thead>\n",
       "    <tr style=\"text-align: right;\">\n",
       "      <th></th>\n",
       "      <th>name</th>\n",
       "      <th>geometry</th>\n",
       "    </tr>\n",
       "  </thead>\n",
       "  <tbody>\n",
       "    <tr>\n",
       "      <th>22</th>\n",
       "      <td>MTD 5E Green Express Weekday</td>\n",
       "      <td>MULTILINESTRING ((-88.23336 40.10053, -88.2332...</td>\n",
       "    </tr>\n",
       "    <tr>\n",
       "      <th>23</th>\n",
       "      <td>MTD 12W Teal Weekday - Daytime</td>\n",
       "      <td>MULTILINESTRING ((-88.22285 40.10061, -88.2228...</td>\n",
       "    </tr>\n",
       "    <tr>\n",
       "      <th>24</th>\n",
       "      <td>MTD 13S Silver Weekday - Daytime</td>\n",
       "      <td>MULTILINESTRING ((-88.20952 40.11242, -88.2099...</td>\n",
       "    </tr>\n",
       "    <tr>\n",
       "      <th>25</th>\n",
       "      <td>MTD 21 Raven Weekday - Daytime</td>\n",
       "      <td>MULTILINESTRING ((-88.23022 40.10148, -88.2302...</td>\n",
       "    </tr>\n",
       "    <tr>\n",
       "      <th>26</th>\n",
       "      <td>MTD 22S Illini Weekday - Daytime</td>\n",
       "      <td>MULTILINESTRING ((-88.22397 40.11278, -88.2239...</td>\n",
       "    </tr>\n",
       "  </tbody>\n",
       "</table>\n",
       "</div>"
      ],
      "text/plain": [
       "                                name  \\\n",
       "22      MTD 5E Green Express Weekday   \n",
       "23    MTD 12W Teal Weekday - Daytime   \n",
       "24  MTD 13S Silver Weekday - Daytime   \n",
       "25    MTD 21 Raven Weekday - Daytime   \n",
       "26  MTD 22S Illini Weekday - Daytime   \n",
       "\n",
       "                                             geometry  \n",
       "22  MULTILINESTRING ((-88.23336 40.10053, -88.2332...  \n",
       "23  MULTILINESTRING ((-88.22285 40.10061, -88.2228...  \n",
       "24  MULTILINESTRING ((-88.20952 40.11242, -88.2099...  \n",
       "25  MULTILINESTRING ((-88.23022 40.10148, -88.2302...  \n",
       "26  MULTILINESTRING ((-88.22397 40.11278, -88.2239...  "
      ]
     },
     "execution_count": 23,
     "metadata": {},
     "output_type": "execute_result"
    }
   ],
   "source": [
    "data_path = \"UIUC_osm\"\n",
    "uiuc_plgs = read_file(data_path + \"/UIUC_Bus.shp\")\n",
    "uiuc_plgs = uiuc_plgs[['name', 'geometry']]\n",
    "uiuc_plgs.tail()"
   ]
  },
  {
   "cell_type": "code",
   "execution_count": 24,
   "metadata": {},
   "outputs": [
    {
     "data": {
      "text/plain": [
       "'/Users/weiye/Codings/2020/CyberGIS-Jupyter/PostGIS_Intro/UIUC_osm/UIUC_Bus.csv'"
      ]
     },
     "execution_count": 24,
     "metadata": {},
     "output_type": "execute_result"
    }
   ],
   "source": [
    "uiuc_plgs.to_csv(\"UIUC_osm/UIUC_Bus.csv\", index = False)\n",
    "data_path = !pwd UIUC_osm/UIUC_Bus.csv\n",
    "data_path = data_path[0] + \"/\" + \"UIUC_osm/UIUC_Bus.csv\"\n",
    "data_path"
   ]
  },
  {
   "cell_type": "code",
   "execution_count": 25,
   "metadata": {},
   "outputs": [
    {
     "name": "stdout",
     "output_type": "stream",
     "text": [
      " * postgresql://localhost:5432/postgisdemo\n",
      "27 rows affected.\n"
     ]
    },
    {
     "data": {
      "text/plain": [
       "[]"
      ]
     },
     "execution_count": 25,
     "metadata": {},
     "output_type": "execute_result"
    }
   ],
   "source": [
    "query = \"\"\"\n",
    "copy uiuc_bus(name, geom_text)\n",
    "from '{}' delimiter ',' csv header;\n",
    "\"\"\".format(data_path)\n",
    "\n",
    "%sql $query"
   ]
  },
  {
   "cell_type": "code",
   "execution_count": 26,
   "metadata": {},
   "outputs": [
    {
     "name": "stdout",
     "output_type": "stream",
     "text": [
      " * postgresql://localhost:5432/postgisdemo\n",
      "2 rows affected.\n"
     ]
    },
    {
     "data": {
      "text/plain": [
       "[]"
      ]
     },
     "execution_count": 26,
     "metadata": {},
     "output_type": "execute_result"
    }
   ],
   "source": [
    "%sql DELETE from uiuc_bus where name not like 'MTD%'"
   ]
  },
  {
   "cell_type": "code",
   "execution_count": 27,
   "metadata": {},
   "outputs": [
    {
     "name": "stdout",
     "output_type": "stream",
     "text": [
      " * postgresql://localhost:5432/postgisdemo\n",
      "25 rows affected.\n",
      "Done.\n"
     ]
    },
    {
     "data": {
      "text/plain": [
       "[]"
      ]
     },
     "execution_count": 27,
     "metadata": {},
     "output_type": "execute_result"
    }
   ],
   "source": [
    "%%sql\n",
    "UPDATE uiuc_bus\n",
    "SET geom = ST_SetSRID(ST_GeomFromText(geom_text), 4326),\n",
    "    geog = geom::geography;\n",
    "\n",
    "ALTER TABLE uiuc_bus\n",
    "DROP geom_text;"
   ]
  },
  {
   "cell_type": "code",
   "execution_count": 28,
   "metadata": {
    "scrolled": true
   },
   "outputs": [
    {
     "name": "stdout",
     "output_type": "stream",
     "text": [
      " * postgresql://localhost:5432/postgisdemo\n",
      "25 rows affected.\n"
     ]
    },
    {
     "data": {
      "text/html": [
       "<table>\n",
       "    <tr>\n",
       "        <th>name</th>\n",
       "    </tr>\n",
       "    <tr>\n",
       "        <td>MTD 10E Gold Weekday - Daytime</td>\n",
       "    </tr>\n",
       "    <tr>\n",
       "        <td>MTD 10W Gold Weekday - Daytime</td>\n",
       "    </tr>\n",
       "    <tr>\n",
       "        <td>MTD 12E Teal Weekday - Daytime</td>\n",
       "    </tr>\n",
       "    <tr>\n",
       "        <td>MTD 12W Teal Weekday - Daytime</td>\n",
       "    </tr>\n",
       "    <tr>\n",
       "        <td>MTD 13N Silver Weekday - Daytime</td>\n",
       "    </tr>\n",
       "    <tr>\n",
       "        <td>MTD 13S Silver Weekday - Daytime</td>\n",
       "    </tr>\n",
       "    <tr>\n",
       "        <td>MTD 1N Yellow Weekday - Day</td>\n",
       "    </tr>\n",
       "    <tr>\n",
       "        <td>MTD 1S Yellow Weekday - Day</td>\n",
       "    </tr>\n",
       "    <tr>\n",
       "        <td>MTD 21 Raven Weekday - Daytime</td>\n",
       "    </tr>\n",
       "    <tr>\n",
       "        <td>MTD 22N Illini Weekday - Daytime</td>\n",
       "    </tr>\n",
       "    <tr>\n",
       "        <td>MTD 22S Illini Weekday - Daytime</td>\n",
       "    </tr>\n",
       "    <tr>\n",
       "        <td>MTD 2C Red Weekday - Daytime</td>\n",
       "    </tr>\n",
       "    <tr>\n",
       "        <td>MTD 2U Red Weekday - Daytime</td>\n",
       "    </tr>\n",
       "    <tr>\n",
       "        <td>MTD 4E Blue - Weekday Daytime</td>\n",
       "    </tr>\n",
       "    <tr>\n",
       "        <td>MTD 4W Blue Weekday - Daytime</td>\n",
       "    </tr>\n",
       "    <tr>\n",
       "        <td>MTD 5E Green Express Weekday</td>\n",
       "    </tr>\n",
       "    <tr>\n",
       "        <td>MTD 5E Green Weekday - Daytime AM</td>\n",
       "    </tr>\n",
       "    <tr>\n",
       "        <td>MTD 5E Green Weekday - Daytime PM</td>\n",
       "    </tr>\n",
       "    <tr>\n",
       "        <td>MTD 5W Green Express Weekday</td>\n",
       "    </tr>\n",
       "    <tr>\n",
       "        <td>MTD 5W Green Weekday - Daytime AM</td>\n",
       "    </tr>\n",
       "    <tr>\n",
       "        <td>MTD 5W Green Weekday - Daytime PM</td>\n",
       "    </tr>\n",
       "    <tr>\n",
       "        <td>MTD 8E Bronze Weekday - Daytime</td>\n",
       "    </tr>\n",
       "    <tr>\n",
       "        <td>MTD 8W Bronze Weekday - Daytime</td>\n",
       "    </tr>\n",
       "    <tr>\n",
       "        <td>MTD 9A Brown Weekday - Daytime</td>\n",
       "    </tr>\n",
       "    <tr>\n",
       "        <td>MTD 9B Brown Weekday - Daytime</td>\n",
       "    </tr>\n",
       "</table>"
      ],
      "text/plain": [
       "[('MTD 10E Gold Weekday - Daytime',),\n",
       " ('MTD 10W Gold Weekday - Daytime',),\n",
       " ('MTD 12E Teal Weekday - Daytime',),\n",
       " ('MTD 12W Teal Weekday - Daytime',),\n",
       " ('MTD 13N Silver Weekday - Daytime',),\n",
       " ('MTD 13S Silver Weekday - Daytime',),\n",
       " ('MTD 1N Yellow Weekday - Day',),\n",
       " ('MTD 1S Yellow Weekday - Day',),\n",
       " ('MTD 21 Raven Weekday - Daytime',),\n",
       " ('MTD 22N Illini Weekday - Daytime',),\n",
       " ('MTD 22S Illini Weekday - Daytime',),\n",
       " ('MTD 2C Red Weekday - Daytime',),\n",
       " ('MTD 2U Red Weekday - Daytime',),\n",
       " ('MTD 4E Blue - Weekday Daytime',),\n",
       " ('MTD 4W Blue Weekday - Daytime',),\n",
       " ('MTD 5E Green Express Weekday',),\n",
       " ('MTD 5E Green Weekday - Daytime AM',),\n",
       " ('MTD 5E Green Weekday - Daytime PM',),\n",
       " ('MTD 5W Green Express Weekday',),\n",
       " ('MTD 5W Green Weekday - Daytime AM',),\n",
       " ('MTD 5W Green Weekday - Daytime PM',),\n",
       " ('MTD 8E Bronze Weekday - Daytime',),\n",
       " ('MTD 8W Bronze Weekday - Daytime',),\n",
       " ('MTD 9A Brown Weekday - Daytime',),\n",
       " ('MTD 9B Brown Weekday - Daytime',)]"
      ]
     },
     "execution_count": 28,
     "metadata": {},
     "output_type": "execute_result"
    }
   ],
   "source": [
    "%%sql\n",
    "SELECT name from uiuc_bus order by name asc"
   ]
  },
  {
   "cell_type": "markdown",
   "metadata": {},
   "source": [
    "### 2.3 Import Polygon Data"
   ]
  },
  {
   "cell_type": "code",
   "execution_count": 29,
   "metadata": {},
   "outputs": [
    {
     "name": "stdout",
     "output_type": "stream",
     "text": [
      " * postgresql://localhost:5432/postgisdemo\n",
      "Done.\n",
      "Done.\n"
     ]
    },
    {
     "data": {
      "text/plain": [
       "[]"
      ]
     },
     "execution_count": 29,
     "metadata": {},
     "output_type": "execute_result"
    }
   ],
   "source": [
    "%%sql\n",
    "drop table if exists uiuc_plg;\n",
    "create table uiuc_plg(\n",
    "    id serial primary key,\n",
    "    name text,\n",
    "    type text,\n",
    "    geom_text text,\n",
    "    geom geometry(geometry,4326),\n",
    "    geog geography\n",
    ");"
   ]
  },
  {
   "cell_type": "code",
   "execution_count": 30,
   "metadata": {},
   "outputs": [
    {
     "data": {
      "text/html": [
       "<div>\n",
       "<style scoped>\n",
       "    .dataframe tbody tr th:only-of-type {\n",
       "        vertical-align: middle;\n",
       "    }\n",
       "\n",
       "    .dataframe tbody tr th {\n",
       "        vertical-align: top;\n",
       "    }\n",
       "\n",
       "    .dataframe thead th {\n",
       "        text-align: right;\n",
       "    }\n",
       "</style>\n",
       "<table border=\"1\" class=\"dataframe\">\n",
       "  <thead>\n",
       "    <tr style=\"text-align: right;\">\n",
       "      <th></th>\n",
       "      <th>name</th>\n",
       "      <th>amenity</th>\n",
       "      <th>geometry</th>\n",
       "    </tr>\n",
       "  </thead>\n",
       "  <tbody>\n",
       "    <tr>\n",
       "      <th>0</th>\n",
       "      <td>Main Library</td>\n",
       "      <td>library</td>\n",
       "      <td>POLYGON ((-88.22827 40.10513, -88.22827 40.104...</td>\n",
       "    </tr>\n",
       "    <tr>\n",
       "      <th>1</th>\n",
       "      <td>Weston Hall</td>\n",
       "      <td>None</td>\n",
       "      <td>POLYGON ((-88.23568 40.10319, -88.23493 40.103...</td>\n",
       "    </tr>\n",
       "    <tr>\n",
       "      <th>2</th>\n",
       "      <td>TIS College Bookstore</td>\n",
       "      <td>None</td>\n",
       "      <td>POLYGON ((-88.23100 40.10989, -88.23053 40.109...</td>\n",
       "    </tr>\n",
       "    <tr>\n",
       "      <th>3</th>\n",
       "      <td>Illinois Street Residence Halls</td>\n",
       "      <td>None</td>\n",
       "      <td>POLYGON ((-88.22144 40.10949, -88.22144 40.109...</td>\n",
       "    </tr>\n",
       "    <tr>\n",
       "      <th>4</th>\n",
       "      <td>Allen Hall</td>\n",
       "      <td>None</td>\n",
       "      <td>POLYGON ((-88.22057 40.10464, -88.22057 40.104...</td>\n",
       "    </tr>\n",
       "  </tbody>\n",
       "</table>\n",
       "</div>"
      ],
      "text/plain": [
       "                              name  amenity  \\\n",
       "0                     Main Library  library   \n",
       "1                      Weston Hall     None   \n",
       "2            TIS College Bookstore     None   \n",
       "3  Illinois Street Residence Halls     None   \n",
       "4                       Allen Hall     None   \n",
       "\n",
       "                                            geometry  \n",
       "0  POLYGON ((-88.22827 40.10513, -88.22827 40.104...  \n",
       "1  POLYGON ((-88.23568 40.10319, -88.23493 40.103...  \n",
       "2  POLYGON ((-88.23100 40.10989, -88.23053 40.109...  \n",
       "3  POLYGON ((-88.22144 40.10949, -88.22144 40.109...  \n",
       "4  POLYGON ((-88.22057 40.10464, -88.22057 40.104...  "
      ]
     },
     "execution_count": 30,
     "metadata": {},
     "output_type": "execute_result"
    }
   ],
   "source": [
    "data_path = \"UIUC_osm\"\n",
    "uiuc_plgs = read_file(data_path + \"/UIUC_polygons.shp\")\n",
    "uiuc_plgs = uiuc_plgs[['name', 'amenity','geometry']]\n",
    "uiuc_plgs.head()"
   ]
  },
  {
   "cell_type": "code",
   "execution_count": 31,
   "metadata": {},
   "outputs": [
    {
     "data": {
      "text/plain": [
       "'/Users/weiye/Codings/2020/CyberGIS-Jupyter/PostGIS_Intro/UIUC_osm/UIUC_plgs.csv'"
      ]
     },
     "execution_count": 31,
     "metadata": {},
     "output_type": "execute_result"
    }
   ],
   "source": [
    "uiuc_plgs.to_csv(\"UIUC_osm/UIUC_plgs.csv\", index = False)\n",
    "data_path = !pwd UIUC_osm/UIUC_plgs.csv\n",
    "data_path = data_path[0] + \"/\" + \"UIUC_osm/UIUC_plgs.csv\"\n",
    "data_path"
   ]
  },
  {
   "cell_type": "code",
   "execution_count": 32,
   "metadata": {},
   "outputs": [
    {
     "name": "stdout",
     "output_type": "stream",
     "text": [
      " * postgresql://localhost:5432/postgisdemo\n",
      "930 rows affected.\n"
     ]
    },
    {
     "data": {
      "text/plain": [
       "[]"
      ]
     },
     "execution_count": 32,
     "metadata": {},
     "output_type": "execute_result"
    }
   ],
   "source": [
    "query = \"\"\"\n",
    "copy uiuc_plg(name, type, geom_text)\n",
    "from '{}' delimiter ',' csv header;\n",
    "\"\"\".format(data_path)\n",
    "\n",
    "%sql $query"
   ]
  },
  {
   "cell_type": "code",
   "execution_count": 33,
   "metadata": {},
   "outputs": [
    {
     "name": "stdout",
     "output_type": "stream",
     "text": [
      " * postgresql://localhost:5432/postgisdemo\n",
      "930 rows affected.\n",
      "Done.\n"
     ]
    },
    {
     "data": {
      "text/plain": [
       "[]"
      ]
     },
     "execution_count": 33,
     "metadata": {},
     "output_type": "execute_result"
    }
   ],
   "source": [
    "%%sql\n",
    "UPDATE uiuc_plg\n",
    "SET geom = ST_SetSRID(ST_GeomFromText(geom_text), 4326),\n",
    "    geog = geom::geography;\n",
    "\n",
    "ALTER TABLE uiuc_plg\n",
    "DROP geom_text;"
   ]
  },
  {
   "cell_type": "code",
   "execution_count": 34,
   "metadata": {
    "scrolled": true
   },
   "outputs": [
    {
     "name": "stdout",
     "output_type": "stream",
     "text": [
      " * postgresql://localhost:5432/postgisdemo\n",
      "10 rows affected.\n"
     ]
    },
    {
     "data": {
      "text/html": [
       "<table>\n",
       "    <tr>\n",
       "        <th>name</th>\n",
       "        <th>type</th>\n",
       "    </tr>\n",
       "    <tr>\n",
       "        <td>Main Library</td>\n",
       "        <td>library</td>\n",
       "    </tr>\n",
       "    <tr>\n",
       "        <td>ACES Library</td>\n",
       "        <td>library</td>\n",
       "    </tr>\n",
       "    <tr>\n",
       "        <td>Episcopal Church</td>\n",
       "        <td>place_of_worship</td>\n",
       "    </tr>\n",
       "    <tr>\n",
       "        <td>Art Annex Studio 2</td>\n",
       "        <td>arts_centre</td>\n",
       "    </tr>\n",
       "    <tr>\n",
       "        <td>University High School grounds</td>\n",
       "        <td>school</td>\n",
       "    </tr>\n",
       "    <tr>\n",
       "        <td>University of Illinois at Urbana-Champaign</td>\n",
       "        <td>university</td>\n",
       "    </tr>\n",
       "    <tr>\n",
       "        <td>Foellinger Auditorium</td>\n",
       "        <td>theatre</td>\n",
       "    </tr>\n",
       "    <tr>\n",
       "        <td>McKinley Health Center</td>\n",
       "        <td>hospital</td>\n",
       "    </tr>\n",
       "    <tr>\n",
       "        <td>E15</td>\n",
       "        <td>parking</td>\n",
       "    </tr>\n",
       "    <tr>\n",
       "        <td>E12</td>\n",
       "        <td>parking</td>\n",
       "    </tr>\n",
       "</table>"
      ],
      "text/plain": [
       "[('Main Library', 'library'),\n",
       " ('ACES Library', 'library'),\n",
       " ('Episcopal Church', 'place_of_worship'),\n",
       " ('Art Annex Studio 2', 'arts_centre'),\n",
       " ('University High School grounds', 'school'),\n",
       " ('University of Illinois at Urbana-Champaign', 'university'),\n",
       " ('Foellinger Auditorium', 'theatre'),\n",
       " ('McKinley Health Center', 'hospital'),\n",
       " ('E15', 'parking'),\n",
       " ('E12', 'parking')]"
      ]
     },
     "execution_count": 34,
     "metadata": {},
     "output_type": "execute_result"
    }
   ],
   "source": [
    "%%sql\n",
    "SELECT name, type from uiuc_plg where name <> '' and type <> '' limit 10"
   ]
  },
  {
   "cell_type": "markdown",
   "metadata": {},
   "source": [
    "## 3. Spatial Operations"
   ]
  },
  {
   "cell_type": "markdown",
   "metadata": {},
   "source": [
    "In this section, we will explore the frequently used spatial operation that PostGIS enables us to do. We may use either the data we have imported to the PostgreSQL database or some arbitary shapes. "
   ]
  },
  {
   "cell_type": "markdown",
   "metadata": {},
   "source": [
    "### 3.1 Geometry Accessors"
   ]
  },
  {
   "cell_type": "markdown",
   "metadata": {},
   "source": [
    "Get the geometric type of a geometry object. The keyword `DISTINCT` will return the unique values of the query results (resolving duplicates)."
   ]
  },
  {
   "cell_type": "code",
   "execution_count": 35,
   "metadata": {},
   "outputs": [
    {
     "name": "stdout",
     "output_type": "stream",
     "text": [
      " * postgresql://localhost:5432/postgisdemo\n",
      "2 rows affected.\n"
     ]
    },
    {
     "data": {
      "text/html": [
       "<table>\n",
       "    <tr>\n",
       "        <th>st_geometrytype</th>\n",
       "    </tr>\n",
       "    <tr>\n",
       "        <td>ST_MultiPolygon</td>\n",
       "    </tr>\n",
       "    <tr>\n",
       "        <td>ST_Polygon</td>\n",
       "    </tr>\n",
       "</table>"
      ],
      "text/plain": [
       "[('ST_MultiPolygon',), ('ST_Polygon',)]"
      ]
     },
     "execution_count": 35,
     "metadata": {},
     "output_type": "execute_result"
    }
   ],
   "source": [
    "%sql select distinct ST_GeometryType(geom) from uiuc_plg"
   ]
  },
  {
   "cell_type": "markdown",
   "metadata": {},
   "source": [
    "Querying the dimension of the geometry"
   ]
  },
  {
   "cell_type": "code",
   "execution_count": 36,
   "metadata": {},
   "outputs": [
    {
     "name": "stdout",
     "output_type": "stream",
     "text": [
      " * postgresql://localhost:5432/postgisdemo\n",
      "1 rows affected.\n"
     ]
    },
    {
     "data": {
      "text/html": [
       "<table>\n",
       "    <tr>\n",
       "        <th>st_dimension</th>\n",
       "    </tr>\n",
       "    <tr>\n",
       "        <td>2</td>\n",
       "    </tr>\n",
       "</table>"
      ],
      "text/plain": [
       "[(2,)]"
      ]
     },
     "execution_count": 36,
     "metadata": {},
     "output_type": "execute_result"
    }
   ],
   "source": [
    "%sql select ST_Dimension(geom) from uiuc_plg limit 1"
   ]
  },
  {
   "cell_type": "markdown",
   "metadata": {},
   "source": [
    "Get the number of vertices of a geometry. The following command gets the number of features with more than 10 vertices. "
   ]
  },
  {
   "cell_type": "code",
   "execution_count": 37,
   "metadata": {},
   "outputs": [
    {
     "name": "stdout",
     "output_type": "stream",
     "text": [
      " * postgresql://localhost:5432/postgisdemo\n",
      "1 rows affected.\n"
     ]
    },
    {
     "data": {
      "text/html": [
       "<table>\n",
       "    <tr>\n",
       "        <th>count</th>\n",
       "    </tr>\n",
       "    <tr>\n",
       "        <td>164</td>\n",
       "    </tr>\n",
       "</table>"
      ],
      "text/plain": [
       "[(164,)]"
      ]
     },
     "execution_count": 37,
     "metadata": {},
     "output_type": "execute_result"
    }
   ],
   "source": [
    "%sql select count(name) from uiuc_plg where ST_NPoints(geom) > 10"
   ]
  },
  {
   "cell_type": "markdown",
   "metadata": {},
   "source": [
    "Retrieve the SRID of a geometry. SRID is an integer value that uniquely identifies the Spatial Referencing System (SRS) within the database. Read more about SRID and Spatial references in this [link](https://postgis.net/docs/using_postgis_dbmanagement.html#spatial_ref_sys)."
   ]
  },
  {
   "cell_type": "code",
   "execution_count": 38,
   "metadata": {},
   "outputs": [
    {
     "name": "stdout",
     "output_type": "stream",
     "text": [
      " * postgresql://localhost:5432/postgisdemo\n",
      "1 rows affected.\n"
     ]
    },
    {
     "data": {
      "text/html": [
       "<table>\n",
       "    <tr>\n",
       "        <th>st_srid</th>\n",
       "    </tr>\n",
       "    <tr>\n",
       "        <td>4326</td>\n",
       "    </tr>\n",
       "</table>"
      ],
      "text/plain": [
       "[(4326,)]"
      ]
     },
     "execution_count": 38,
     "metadata": {},
     "output_type": "execute_result"
    }
   ],
   "source": [
    "%sql SELECT DISTINCT ST_SRID(geom) from uiuc_bus"
   ]
  },
  {
   "cell_type": "code",
   "execution_count": 39,
   "metadata": {
    "scrolled": true
   },
   "outputs": [
    {
     "name": "stdout",
     "output_type": "stream",
     "text": [
      " * postgresql://localhost:5432/postgisdemo\n",
      "1 rows affected.\n"
     ]
    },
    {
     "data": {
      "text/html": [
       "<table>\n",
       "    <tr>\n",
       "        <th>st_srid</th>\n",
       "    </tr>\n",
       "    <tr>\n",
       "        <td>1234</td>\n",
       "    </tr>\n",
       "</table>"
      ],
      "text/plain": [
       "[(1234,)]"
      ]
     },
     "execution_count": 39,
     "metadata": {},
     "output_type": "execute_result"
    }
   ],
   "source": [
    "%sql SELECT ST_SRID(ST_GeomFromText('POINT(289 22143)',1234)); -- An arbitary point with SRID of 1234"
   ]
  },
  {
   "cell_type": "markdown",
   "metadata": {},
   "source": [
    "Get the envelope of a geometry object"
   ]
  },
  {
   "cell_type": "code",
   "execution_count": 40,
   "metadata": {},
   "outputs": [
    {
     "name": "stdout",
     "output_type": "stream",
     "text": [
      " * postgresql://localhost:5432/postgisdemo\n",
      "10 rows affected.\n"
     ]
    },
    {
     "data": {
      "text/html": [
       "<table>\n",
       "    <tr>\n",
       "        <th>st_astext</th>\n",
       "    </tr>\n",
       "    <tr>\n",
       "        <td>POLYGON((-88.232915 40.072872,-88.232915 40.157339,-88.15306 40.157339,-88.15306 40.072872,-88.232915 40.072872))</td>\n",
       "    </tr>\n",
       "    <tr>\n",
       "        <td>POLYGON((-88.333345 40.061887,-88.333345 40.16398,-88.221223 40.16398,-88.221223 40.061887,-88.333345 40.061887))</td>\n",
       "    </tr>\n",
       "    <tr>\n",
       "        <td>POLYGON((-88.2297156 40.104303,-88.2297156 40.1051356,-88.2282641 40.1051356,-88.2282641 40.104303,-88.2297156 40.104303))</td>\n",
       "    </tr>\n",
       "    <tr>\n",
       "        <td>POLYGON((-88.2356797 40.1028011,-88.2356797 40.103195,-88.234934 40.103195,-88.234934 40.1028011,-88.2356797 40.1028011))</td>\n",
       "    </tr>\n",
       "    <tr>\n",
       "        <td>POLYGON((-88.2309987 40.1095224,-88.2309987 40.1098897,-88.2305261 40.1098897,-88.2305261 40.1095224,-88.2309987 40.1095224))</td>\n",
       "    </tr>\n",
       "    <tr>\n",
       "        <td>POLYGON((-88.2222281 40.1093969,-88.2222281 40.110281,-88.2206 40.110281,-88.2206 40.1093969,-88.2222281 40.1093969))</td>\n",
       "    </tr>\n",
       "    <tr>\n",
       "        <td>POLYGON((-88.2211173 40.1036385,-88.2211173 40.104636,-88.2201917 40.104636,-88.2201917 40.1036385,-88.2211173 40.1036385))</td>\n",
       "    </tr>\n",
       "    <tr>\n",
       "        <td>POLYGON((-88.2370792 40.1018601,-88.2370792 40.1022704,-88.2363333 40.1022704,-88.2363333 40.1018601,-88.2370792 40.1018601))</td>\n",
       "    </tr>\n",
       "    <tr>\n",
       "        <td>POLYGON((-88.2355085 40.1020315,-88.2355085 40.1024177,-88.2347672 40.1024177,-88.2347672 40.1020315,-88.2355085 40.1020315))</td>\n",
       "    </tr>\n",
       "    <tr>\n",
       "        <td>POLYGON((-88.2381382 40.1023381,-88.2381382 40.1027303,-88.2374118 40.1027303,-88.2374118 40.1023381,-88.2381382 40.1023381))</td>\n",
       "    </tr>\n",
       "</table>"
      ],
      "text/plain": [
       "[('POLYGON((-88.232915 40.072872,-88.232915 40.157339,-88.15306 40.157339,-88.15306 40.072872,-88.232915 40.072872))',),\n",
       " ('POLYGON((-88.333345 40.061887,-88.333345 40.16398,-88.221223 40.16398,-88.221223 40.061887,-88.333345 40.061887))',),\n",
       " ('POLYGON((-88.2297156 40.104303,-88.2297156 40.1051356,-88.2282641 40.1051356,-88.2282641 40.104303,-88.2297156 40.104303))',),\n",
       " ('POLYGON((-88.2356797 40.1028011,-88.2356797 40.103195,-88.234934 40.103195,-88.234934 40.1028011,-88.2356797 40.1028011))',),\n",
       " ('POLYGON((-88.2309987 40.1095224,-88.2309987 40.1098897,-88.2305261 40.1098897,-88.2305261 40.1095224,-88.2309987 40.1095224))',),\n",
       " ('POLYGON((-88.2222281 40.1093969,-88.2222281 40.110281,-88.2206 40.110281,-88.2206 40.1093969,-88.2222281 40.1093969))',),\n",
       " ('POLYGON((-88.2211173 40.1036385,-88.2211173 40.104636,-88.2201917 40.104636,-88.2201917 40.1036385,-88.2211173 40.1036385))',),\n",
       " ('POLYGON((-88.2370792 40.1018601,-88.2370792 40.1022704,-88.2363333 40.1022704,-88.2363333 40.1018601,-88.2370792 40.1018601))',),\n",
       " ('POLYGON((-88.2355085 40.1020315,-88.2355085 40.1024177,-88.2347672 40.1024177,-88.2347672 40.1020315,-88.2355085 40.1020315))',),\n",
       " ('POLYGON((-88.2381382 40.1023381,-88.2381382 40.1027303,-88.2374118 40.1027303,-88.2374118 40.1023381,-88.2381382 40.1023381))',)]"
      ]
     },
     "execution_count": 40,
     "metadata": {},
     "output_type": "execute_result"
    }
   ],
   "source": [
    "%sql SELECT ST_AsText(ST_Envelope(geom)) from uiuc_plg limit 10"
   ]
  },
  {
   "cell_type": "markdown",
   "metadata": {},
   "source": [
    "### 3.2  Geometry Processors\n",
    "In this part, we will use `Shapely` package of Python to interactively visualize the geometries. "
   ]
  },
  {
   "cell_type": "code",
   "execution_count": 41,
   "metadata": {},
   "outputs": [],
   "source": [
    "import shapely"
   ]
  },
  {
   "cell_type": "markdown",
   "metadata": {},
   "source": [
    "Get the buffer."
   ]
  },
  {
   "cell_type": "code",
   "execution_count": 42,
   "metadata": {},
   "outputs": [
    {
     "name": "stdout",
     "output_type": "stream",
     "text": [
      " * postgresql://localhost:5432/postgisdemo\n",
      "1 rows affected.\n",
      "Returning data to local variable buffer_arc\n"
     ]
    }
   ],
   "source": [
    "%%sql buffer_arc <<\n",
    "SELECT ST_AsText(ST_Buffer(\n",
    " ST_GeomFromText(\n",
    "  'LINESTRING(50 50,150 150,150 50)'\n",
    " ), 10, 'endcap=round join=round'));"
   ]
  },
  {
   "cell_type": "code",
   "execution_count": 43,
   "metadata": {},
   "outputs": [
    {
     "data": {
      "image/svg+xml": [
       "<svg xmlns=\"http://www.w3.org/2000/svg\" xmlns:xlink=\"http://www.w3.org/1999/xlink\" width=\"129.60000000000002\" height=\"129.60000000000002\" viewBox=\"35.2 35.2 129.60000000000002 129.60000000000002\" preserveAspectRatio=\"xMinYMin meet\"><g transform=\"matrix(1,0,0,-1,0,200.0)\"><path fill-rule=\"evenodd\" fill=\"#66cc99\" stroke=\"#555555\" stroke-width=\"2.0\" opacity=\"0.6\" d=\"M 142.928932188135,157.071067811865 L 144.444297669804,158.314696123025 L 146.173165676349,159.238795325113 L 148.049096779839,159.807852804032 L 150.0,160.0 L 151.950903220161,159.807852804032 L 153.826834323651,159.238795325113 L 155.555702330196,158.314696123025 L 157.071067811865,157.071067811865 L 158.314696123025,155.555702330196 L 159.238795325113,153.826834323651 L 159.807852804032,151.950903220161 L 160.0,150.0 L 160.0,50.0 L 159.807852804032,48.0490967798387 L 159.238795325113,46.1731656763491 L 158.314696123025,44.444297669804 L 157.071067811865,42.9289321881345 L 155.555702330196,41.6853038769745 L 153.826834323651,40.7612046748871 L 151.950903220161,40.1921471959677 L 150.0,40.0 L 148.049096779839,40.1921471959677 L 146.173165676349,40.7612046748871 L 144.444297669804,41.6853038769745 L 142.928932188135,42.9289321881345 L 141.685303876975,44.444297669804 L 140.761204674887,46.1731656763491 L 140.192147195968,48.0490967798387 L 140.0,50.0 L 140.0,125.857864376269 L 57.0710678118655,42.9289321881345 L 55.555702330196,41.6853038769745 L 53.8268343236509,40.7612046748871 L 51.9509032201613,40.1921471959677 L 50.0,40.0 L 48.0490967798387,40.1921471959677 L 46.1731656763491,40.7612046748871 L 44.444297669804,41.6853038769745 L 42.9289321881345,42.9289321881345 L 41.6853038769746,44.444297669804 L 40.7612046748871,46.1731656763491 L 40.1921471959677,48.0490967798387 L 40.0,50.0 L 40.1921471959677,51.9509032201613 L 40.7612046748871,53.8268343236509 L 41.6853038769745,55.555702330196 L 42.9289321881345,57.0710678118655 L 142.928932188135,157.071067811865 z\" /></g></svg>"
      ],
      "text/plain": [
       "<shapely.geometry.polygon.Polygon at 0x126c11c90>"
      ]
     },
     "execution_count": 43,
     "metadata": {},
     "output_type": "execute_result"
    }
   ],
   "source": [
    "buffer_arc = shapely.wkt.loads(buffer_arc[0][0])\n",
    "buffer_arc"
   ]
  },
  {
   "cell_type": "code",
   "execution_count": 44,
   "metadata": {},
   "outputs": [
    {
     "name": "stdout",
     "output_type": "stream",
     "text": [
      " * postgresql://localhost:5432/postgisdemo\n",
      "1 rows affected.\n"
     ]
    },
    {
     "data": {
      "image/svg+xml": [
       "<svg xmlns=\"http://www.w3.org/2000/svg\" xmlns:xlink=\"http://www.w3.org/1999/xlink\" width=\"108.0\" height=\"108.0\" viewBox=\"46.0 36.0 108.0 108.0\" preserveAspectRatio=\"xMinYMin meet\"><g transform=\"matrix(1,0,0,-1,0,180.0)\"><path fill-rule=\"evenodd\" fill=\"#66cc99\" stroke=\"#555555\" stroke-width=\"2.0\" opacity=\"0.6\" d=\"M 150.0,90.0 L 149.039264020162,80.2454838991936 L 146.193976625564,70.8658283817455 L 141.573480615127,62.2214883490199 L 135.355339059327,54.6446609406727 L 127.77851165098,48.4265193848728 L 119.134171618255,43.8060233744357 L 109.754516100806,40.9607359798385 L 100.0,40.0 L 90.2454838991937,40.9607359798385 L 80.8658283817456,43.8060233744356 L 72.22148834902,48.4265193848727 L 64.6446609406727,54.6446609406725 L 58.4265193848728,62.2214883490198 L 53.8060233744357,70.8658283817454 L 50.9607359798385,80.2454838991934 L 50.0,89.9999999999998 L 50.9607359798384,99.7545161008062 L 53.8060233744356,109.134171618254 L 58.4265193848726,117.77851165098 L 64.6446609406725,125.355339059327 L 72.2214883490197,131.573480615127 L 80.8658283817453,136.193976625564 L 90.2454838991934,139.039264020161 L 99.9999999999998,140.0 L 109.754516100806,139.039264020162 L 119.134171618254,136.193976625564 L 127.77851165098,131.573480615127 L 135.355339059327,125.355339059327 L 141.573480615127,117.77851165098 L 146.193976625564,109.134171618255 L 149.039264020162,99.7545161008065 L 150.0,90.0 z\" /></g></svg>"
      ],
      "text/plain": [
       "<shapely.geometry.polygon.Polygon at 0x126c0cd90>"
      ]
     },
     "execution_count": 44,
     "metadata": {},
     "output_type": "execute_result"
    }
   ],
   "source": [
    "buffer_point = %sql SELECT ST_AsText(ST_Buffer(ST_GeomFromText('POINT(100 90)'), 50, 'quad_segs=8'));\n",
    "buffer_point = shapely.wkt.loads(buffer_point[0][0])\n",
    "buffer_point"
   ]
  },
  {
   "cell_type": "markdown",
   "metadata": {},
   "source": [
    "Get the centroid of geometries. "
   ]
  },
  {
   "cell_type": "code",
   "execution_count": 45,
   "metadata": {
    "scrolled": true
   },
   "outputs": [
    {
     "name": "stdout",
     "output_type": "stream",
     "text": [
      " * postgresql://localhost:5432/postgisdemo\n",
      "25 rows affected.\n"
     ]
    },
    {
     "data": {
      "text/html": [
       "<table>\n",
       "    <tr>\n",
       "        <th>name</th>\n",
       "        <th>st_astext</th>\n",
       "    </tr>\n",
       "    <tr>\n",
       "        <td>MTD 5E Green Weekday - Daytime AM</td>\n",
       "        <td>POINT(-88.2257781326191 40.1104358037762)</td>\n",
       "    </tr>\n",
       "    <tr>\n",
       "        <td>MTD 12E Teal Weekday - Daytime</td>\n",
       "        <td>POINT(-88.2247878195216 40.1071841267018)</td>\n",
       "    </tr>\n",
       "    <tr>\n",
       "        <td>MTD 5W Green Express Weekday</td>\n",
       "        <td>POINT(-88.2306672609824 40.1069869996385)</td>\n",
       "    </tr>\n",
       "    <tr>\n",
       "        <td>MTD 22N Illini Weekday - Daytime</td>\n",
       "        <td>POINT(-88.2272455214682 40.1062045812129)</td>\n",
       "    </tr>\n",
       "    <tr>\n",
       "        <td>MTD 2U Red Weekday - Daytime</td>\n",
       "        <td>POINT(-88.2210811040126 40.1057991663561)</td>\n",
       "    </tr>\n",
       "    <tr>\n",
       "        <td>MTD 13N Silver Weekday - Daytime</td>\n",
       "        <td>POINT(-88.222888152858 40.1081345220597)</td>\n",
       "    </tr>\n",
       "    <tr>\n",
       "        <td>MTD 1N Yellow Weekday - Day</td>\n",
       "        <td>POINT(-88.2315466913782 40.1070662641163)</td>\n",
       "    </tr>\n",
       "    <tr>\n",
       "        <td>MTD 1S Yellow Weekday - Day</td>\n",
       "        <td>POINT(-88.2314435896292 40.1069605660486)</td>\n",
       "    </tr>\n",
       "    <tr>\n",
       "        <td>MTD 9A Brown Weekday - Daytime</td>\n",
       "        <td>POINT(-88.2304507371845 40.1055773548243)</td>\n",
       "    </tr>\n",
       "    <tr>\n",
       "        <td>MTD 2C Red Weekday - Daytime</td>\n",
       "        <td>POINT(-88.2210837352745 40.1058055282828)</td>\n",
       "    </tr>\n",
       "    <tr>\n",
       "        <td>MTD 4W Blue Weekday - Daytime</td>\n",
       "        <td>POINT(-88.2312935677666 40.1054926869184)</td>\n",
       "    </tr>\n",
       "    <tr>\n",
       "        <td>MTD 4E Blue - Weekday Daytime</td>\n",
       "        <td>POINT(-88.2312032467652 40.1054039229492)</td>\n",
       "    </tr>\n",
       "    <tr>\n",
       "        <td>MTD 5E Green Weekday - Daytime PM</td>\n",
       "        <td>POINT(-88.2257781326191 40.1104358037762)</td>\n",
       "    </tr>\n",
       "    <tr>\n",
       "        <td>MTD 5W Green Weekday - Daytime PM</td>\n",
       "        <td>POINT(-88.2257790271376 40.1104403765148)</td>\n",
       "    </tr>\n",
       "    <tr>\n",
       "        <td>MTD 5W Green Weekday - Daytime AM</td>\n",
       "        <td>POINT(-88.2257790271376 40.1104403765148)</td>\n",
       "    </tr>\n",
       "    <tr>\n",
       "        <td>MTD 8E Bronze Weekday - Daytime</td>\n",
       "        <td>POINT(-88.2236985759097 40.1058339182367)</td>\n",
       "    </tr>\n",
       "    <tr>\n",
       "        <td>MTD 8W Bronze Weekday - Daytime</td>\n",
       "        <td>POINT(-88.2281408645863 40.1023972753444)</td>\n",
       "    </tr>\n",
       "    <tr>\n",
       "        <td>MTD 9B Brown Weekday - Daytime</td>\n",
       "        <td>POINT(-88.2303514248128 40.1054808658314)</td>\n",
       "    </tr>\n",
       "    <tr>\n",
       "        <td>MTD 10E Gold Weekday - Daytime</td>\n",
       "        <td>POINT(-88.2240191226686 40.1083645804739)</td>\n",
       "    </tr>\n",
       "    <tr>\n",
       "        <td>MTD 10W Gold Weekday - Daytime</td>\n",
       "        <td>POINT(-88.2240191226686 40.1083645804739)</td>\n",
       "    </tr>\n",
       "    <tr>\n",
       "        <td>MTD 5E Green Express Weekday</td>\n",
       "        <td>POINT(-88.2306679612733 40.1069822626301)</td>\n",
       "    </tr>\n",
       "    <tr>\n",
       "        <td>MTD 12W Teal Weekday - Daytime</td>\n",
       "        <td>POINT(-88.2247896379889 40.1071924776668)</td>\n",
       "    </tr>\n",
       "    <tr>\n",
       "        <td>MTD 13S Silver Weekday - Daytime</td>\n",
       "        <td>POINT(-88.2226969023776 40.1079132800838)</td>\n",
       "    </tr>\n",
       "    <tr>\n",
       "        <td>MTD 21 Raven Weekday - Daytime</td>\n",
       "        <td>POINT(-88.2259875240668 40.104651078067)</td>\n",
       "    </tr>\n",
       "    <tr>\n",
       "        <td>MTD 22S Illini Weekday - Daytime</td>\n",
       "        <td>POINT(-88.2273254814726 40.106602622701)</td>\n",
       "    </tr>\n",
       "</table>"
      ],
      "text/plain": [
       "[('MTD 5E Green Weekday - Daytime AM', 'POINT(-88.2257781326191 40.1104358037762)'),\n",
       " ('MTD 12E Teal Weekday - Daytime', 'POINT(-88.2247878195216 40.1071841267018)'),\n",
       " ('MTD 5W Green Express Weekday', 'POINT(-88.2306672609824 40.1069869996385)'),\n",
       " ('MTD 22N Illini Weekday - Daytime', 'POINT(-88.2272455214682 40.1062045812129)'),\n",
       " ('MTD 2U Red Weekday - Daytime', 'POINT(-88.2210811040126 40.1057991663561)'),\n",
       " ('MTD 13N Silver Weekday - Daytime', 'POINT(-88.222888152858 40.1081345220597)'),\n",
       " ('MTD 1N Yellow Weekday - Day', 'POINT(-88.2315466913782 40.1070662641163)'),\n",
       " ('MTD 1S Yellow Weekday - Day', 'POINT(-88.2314435896292 40.1069605660486)'),\n",
       " ('MTD 9A Brown Weekday - Daytime', 'POINT(-88.2304507371845 40.1055773548243)'),\n",
       " ('MTD 2C Red Weekday - Daytime', 'POINT(-88.2210837352745 40.1058055282828)'),\n",
       " ('MTD 4W Blue Weekday - Daytime', 'POINT(-88.2312935677666 40.1054926869184)'),\n",
       " ('MTD 4E Blue - Weekday Daytime', 'POINT(-88.2312032467652 40.1054039229492)'),\n",
       " ('MTD 5E Green Weekday - Daytime PM', 'POINT(-88.2257781326191 40.1104358037762)'),\n",
       " ('MTD 5W Green Weekday - Daytime PM', 'POINT(-88.2257790271376 40.1104403765148)'),\n",
       " ('MTD 5W Green Weekday - Daytime AM', 'POINT(-88.2257790271376 40.1104403765148)'),\n",
       " ('MTD 8E Bronze Weekday - Daytime', 'POINT(-88.2236985759097 40.1058339182367)'),\n",
       " ('MTD 8W Bronze Weekday - Daytime', 'POINT(-88.2281408645863 40.1023972753444)'),\n",
       " ('MTD 9B Brown Weekday - Daytime', 'POINT(-88.2303514248128 40.1054808658314)'),\n",
       " ('MTD 10E Gold Weekday - Daytime', 'POINT(-88.2240191226686 40.1083645804739)'),\n",
       " ('MTD 10W Gold Weekday - Daytime', 'POINT(-88.2240191226686 40.1083645804739)'),\n",
       " ('MTD 5E Green Express Weekday', 'POINT(-88.2306679612733 40.1069822626301)'),\n",
       " ('MTD 12W Teal Weekday - Daytime', 'POINT(-88.2247896379889 40.1071924776668)'),\n",
       " ('MTD 13S Silver Weekday - Daytime', 'POINT(-88.2226969023776 40.1079132800838)'),\n",
       " ('MTD 21 Raven Weekday - Daytime', 'POINT(-88.2259875240668 40.104651078067)'),\n",
       " ('MTD 22S Illini Weekday - Daytime', 'POINT(-88.2273254814726 40.106602622701)')]"
      ]
     },
     "execution_count": 45,
     "metadata": {},
     "output_type": "execute_result"
    }
   ],
   "source": [
    "%%sql\n",
    "SELECT name, ST_AsText(ST_Centroid(geom)) from uiuc_bus"
   ]
  },
  {
   "cell_type": "markdown",
   "metadata": {},
   "source": [
    "Get all vertices of the geometry"
   ]
  },
  {
   "cell_type": "code",
   "execution_count": 46,
   "metadata": {
    "scrolled": true
   },
   "outputs": [
    {
     "name": "stdout",
     "output_type": "stream",
     "text": [
      " * postgresql://localhost:5432/postgisdemo\n",
      "1 rows affected.\n",
      "Returning data to local variable MTD22N_Vertices\n"
     ]
    }
   ],
   "source": [
    "%%sql MTD22N_Vertices <<\n",
    "SELECT name, ST_AsText(ST_Points(geom)) from uiuc_bus where name like '%22N%'"
   ]
  },
  {
   "cell_type": "code",
   "execution_count": 47,
   "metadata": {},
   "outputs": [
    {
     "data": {
      "image/svg+xml": [
       "<svg xmlns=\"http://www.w3.org/2000/svg\" xmlns:xlink=\"http://www.w3.org/1999/xlink\" width=\"100.0\" height=\"100.0\" viewBox=\"-88.23945424 40.09862776 0.021120480000007547 0.01854918000000083\" preserveAspectRatio=\"xMinYMin meet\"><g transform=\"matrix(1,0,0,-1,0,80.2158047)\"><g><circle cx=\"-88.222849\" cy=\"40.1006062\" r=\"0.0006336144000002263\" stroke=\"#555555\" stroke-width=\"0.00021120480000007545\" fill=\"#66cc99\" opacity=\"0.6\" /><circle cx=\"-88.2228467\" cy=\"40.1002702\" r=\"0.0006336144000002263\" stroke=\"#555555\" stroke-width=\"0.00021120480000007545\" fill=\"#66cc99\" opacity=\"0.6\" /><circle cx=\"-88.222846\" cy=\"40.100165\" r=\"0.0006336144000002263\" stroke=\"#555555\" stroke-width=\"0.00021120480000007545\" fill=\"#66cc99\" opacity=\"0.6\" /><circle cx=\"-88.22284\" cy=\"40.0998969\" r=\"0.0006336144000002263\" stroke=\"#555555\" stroke-width=\"0.00021120480000007545\" fill=\"#66cc99\" opacity=\"0.6\" /><circle cx=\"-88.222835\" cy=\"40.0996752\" r=\"0.0006336144000002263\" stroke=\"#555555\" stroke-width=\"0.00021120480000007545\" fill=\"#66cc99\" opacity=\"0.6\" /><circle cx=\"-88.222829\" cy=\"40.09941\" r=\"0.0006336144000002263\" stroke=\"#555555\" stroke-width=\"0.00021120480000007545\" fill=\"#66cc99\" opacity=\"0.6\" /><circle cx=\"-88.222849\" cy=\"40.1006062\" r=\"0.0006336144000002263\" stroke=\"#555555\" stroke-width=\"0.00021120480000007545\" fill=\"#66cc99\" opacity=\"0.6\" /><circle cx=\"-88.2227192\" cy=\"40.1006055\" r=\"0.0006336144000002263\" stroke=\"#555555\" stroke-width=\"0.00021120480000007545\" fill=\"#66cc99\" opacity=\"0.6\" /><circle cx=\"-88.222627\" cy=\"40.100605\" r=\"0.0006336144000002263\" stroke=\"#555555\" stroke-width=\"0.00021120480000007545\" fill=\"#66cc99\" opacity=\"0.6\" /><circle cx=\"-88.2224977\" cy=\"40.1006057\" r=\"0.0006336144000002263\" stroke=\"#555555\" stroke-width=\"0.00021120480000007545\" fill=\"#66cc99\" opacity=\"0.6\" /><circle cx=\"-88.2224789\" cy=\"40.1006058\" r=\"0.0006336144000002263\" stroke=\"#555555\" stroke-width=\"0.00021120480000007545\" fill=\"#66cc99\" opacity=\"0.6\" /><circle cx=\"-88.222083\" cy=\"40.100608\" r=\"0.0006336144000002263\" stroke=\"#555555\" stroke-width=\"0.00021120480000007545\" fill=\"#66cc99\" opacity=\"0.6\" /><circle cx=\"-88.221773\" cy=\"40.100621\" r=\"0.0006336144000002263\" stroke=\"#555555\" stroke-width=\"0.00021120480000007545\" fill=\"#66cc99\" opacity=\"0.6\" /><circle cx=\"-88.221773\" cy=\"40.100621\" r=\"0.0006336144000002263\" stroke=\"#555555\" stroke-width=\"0.00021120480000007545\" fill=\"#66cc99\" opacity=\"0.6\" /><circle cx=\"-88.2216634\" cy=\"40.1006241\" r=\"0.0006336144000002263\" stroke=\"#555555\" stroke-width=\"0.00021120480000007545\" fill=\"#66cc99\" opacity=\"0.6\" /><circle cx=\"-88.221565\" cy=\"40.100627\" r=\"0.0006336144000002263\" stroke=\"#555555\" stroke-width=\"0.00021120480000007545\" fill=\"#66cc99\" opacity=\"0.6\" /><circle cx=\"-88.2214205\" cy=\"40.1006257\" r=\"0.0006336144000002263\" stroke=\"#555555\" stroke-width=\"0.00021120480000007545\" fill=\"#66cc99\" opacity=\"0.6\" /><circle cx=\"-88.221355\" cy=\"40.1006251\" r=\"0.0006336144000002263\" stroke=\"#555555\" stroke-width=\"0.00021120480000007545\" fill=\"#66cc99\" opacity=\"0.6\" /><circle cx=\"-88.2209805\" cy=\"40.1006216\" r=\"0.0006336144000002263\" stroke=\"#555555\" stroke-width=\"0.00021120480000007545\" fill=\"#66cc99\" opacity=\"0.6\" /><circle cx=\"-88.220806\" cy=\"40.10062\" r=\"0.0006336144000002263\" stroke=\"#555555\" stroke-width=\"0.00021120480000007545\" fill=\"#66cc99\" opacity=\"0.6\" /><circle cx=\"-88.2207282\" cy=\"40.10062\" r=\"0.0006336144000002263\" stroke=\"#555555\" stroke-width=\"0.00021120480000007545\" fill=\"#66cc99\" opacity=\"0.6\" /><circle cx=\"-88.2203875\" cy=\"40.10062\" r=\"0.0006336144000002263\" stroke=\"#555555\" stroke-width=\"0.00021120480000007545\" fill=\"#66cc99\" opacity=\"0.6\" /><circle cx=\"-88.220118\" cy=\"40.10062\" r=\"0.0006336144000002263\" stroke=\"#555555\" stroke-width=\"0.00021120480000007545\" fill=\"#66cc99\" opacity=\"0.6\" /><circle cx=\"-88.2192444\" cy=\"40.1006252\" r=\"0.0006336144000002263\" stroke=\"#555555\" stroke-width=\"0.00021120480000007545\" fill=\"#66cc99\" opacity=\"0.6\" /><circle cx=\"-88.219116\" cy=\"40.100626\" r=\"0.0006336144000002263\" stroke=\"#555555\" stroke-width=\"0.00021120480000007545\" fill=\"#66cc99\" opacity=\"0.6\" /><circle cx=\"-88.219222\" cy=\"40.105981\" r=\"0.0006336144000002263\" stroke=\"#555555\" stroke-width=\"0.00021120480000007545\" fill=\"#66cc99\" opacity=\"0.6\" /><circle cx=\"-88.2192191\" cy=\"40.1059081\" r=\"0.0006336144000002263\" stroke=\"#555555\" stroke-width=\"0.00021120480000007545\" fill=\"#66cc99\" opacity=\"0.6\" /><circle cx=\"-88.219212\" cy=\"40.105726\" r=\"0.0006336144000002263\" stroke=\"#555555\" stroke-width=\"0.00021120480000007545\" fill=\"#66cc99\" opacity=\"0.6\" /><circle cx=\"-88.2192133\" cy=\"40.1055877\" r=\"0.0006336144000002263\" stroke=\"#555555\" stroke-width=\"0.00021120480000007545\" fill=\"#66cc99\" opacity=\"0.6\" /><circle cx=\"-88.219214\" cy=\"40.105516\" r=\"0.0006336144000002263\" stroke=\"#555555\" stroke-width=\"0.00021120480000007545\" fill=\"#66cc99\" opacity=\"0.6\" /><circle cx=\"-88.219215\" cy=\"40.105409\" r=\"0.0006336144000002263\" stroke=\"#555555\" stroke-width=\"0.00021120480000007545\" fill=\"#66cc99\" opacity=\"0.6\" /><circle cx=\"-88.2192146\" cy=\"40.1053903\" r=\"0.0006336144000002263\" stroke=\"#555555\" stroke-width=\"0.00021120480000007545\" fill=\"#66cc99\" opacity=\"0.6\" /><circle cx=\"-88.219212\" cy=\"40.105284\" r=\"0.0006336144000002263\" stroke=\"#555555\" stroke-width=\"0.00021120480000007545\" fill=\"#66cc99\" opacity=\"0.6\" /><circle cx=\"-88.2192117\" cy=\"40.1052702\" r=\"0.0006336144000002263\" stroke=\"#555555\" stroke-width=\"0.00021120480000007545\" fill=\"#66cc99\" opacity=\"0.6\" /><circle cx=\"-88.2192061\" cy=\"40.1050265\" r=\"0.0006336144000002263\" stroke=\"#555555\" stroke-width=\"0.00021120480000007545\" fill=\"#66cc99\" opacity=\"0.6\" /><circle cx=\"-88.2192051\" cy=\"40.1049828\" r=\"0.0006336144000002263\" stroke=\"#555555\" stroke-width=\"0.00021120480000007545\" fill=\"#66cc99\" opacity=\"0.6\" /><circle cx=\"-88.219207\" cy=\"40.1049444\" r=\"0.0006336144000002263\" stroke=\"#555555\" stroke-width=\"0.00021120480000007545\" fill=\"#66cc99\" opacity=\"0.6\" /><circle cx=\"-88.219198\" cy=\"40.1046\" r=\"0.0006336144000002263\" stroke=\"#555555\" stroke-width=\"0.00021120480000007545\" fill=\"#66cc99\" opacity=\"0.6\" /><circle cx=\"-88.2191914\" cy=\"40.1042973\" r=\"0.0006336144000002263\" stroke=\"#555555\" stroke-width=\"0.00021120480000007545\" fill=\"#66cc99\" opacity=\"0.6\" /><circle cx=\"-88.2191805\" cy=\"40.1039732\" r=\"0.0006336144000002263\" stroke=\"#555555\" stroke-width=\"0.00021120480000007545\" fill=\"#66cc99\" opacity=\"0.6\" /><circle cx=\"-88.219178\" cy=\"40.103687\" r=\"0.0006336144000002263\" stroke=\"#555555\" stroke-width=\"0.00021120480000007545\" fill=\"#66cc99\" opacity=\"0.6\" /><circle cx=\"-88.2191678\" cy=\"40.1031648\" r=\"0.0006336144000002263\" stroke=\"#555555\" stroke-width=\"0.00021120480000007545\" fill=\"#66cc99\" opacity=\"0.6\" /><circle cx=\"-88.219161\" cy=\"40.102781\" r=\"0.0006336144000002263\" stroke=\"#555555\" stroke-width=\"0.00021120480000007545\" fill=\"#66cc99\" opacity=\"0.6\" /><circle cx=\"-88.2191594\" cy=\"40.1027068\" r=\"0.0006336144000002263\" stroke=\"#555555\" stroke-width=\"0.00021120480000007545\" fill=\"#66cc99\" opacity=\"0.6\" /><circle cx=\"-88.2191523\" cy=\"40.1023682\" r=\"0.0006336144000002263\" stroke=\"#555555\" stroke-width=\"0.00021120480000007545\" fill=\"#66cc99\" opacity=\"0.6\" /><circle cx=\"-88.2191434\" cy=\"40.1019443\" r=\"0.0006336144000002263\" stroke=\"#555555\" stroke-width=\"0.00021120480000007545\" fill=\"#66cc99\" opacity=\"0.6\" /><circle cx=\"-88.219142\" cy=\"40.101877\" r=\"0.0006336144000002263\" stroke=\"#555555\" stroke-width=\"0.00021120480000007545\" fill=\"#66cc99\" opacity=\"0.6\" /><circle cx=\"-88.219118\" cy=\"40.1007191\" r=\"0.0006336144000002263\" stroke=\"#555555\" stroke-width=\"0.00021120480000007545\" fill=\"#66cc99\" opacity=\"0.6\" /><circle cx=\"-88.2191169\" cy=\"40.1006682\" r=\"0.0006336144000002263\" stroke=\"#555555\" stroke-width=\"0.00021120480000007545\" fill=\"#66cc99\" opacity=\"0.6\" /><circle cx=\"-88.219116\" cy=\"40.100626\" r=\"0.0006336144000002263\" stroke=\"#555555\" stroke-width=\"0.00021120480000007545\" fill=\"#66cc99\" opacity=\"0.6\" /><circle cx=\"-88.219222\" cy=\"40.105981\" r=\"0.0006336144000002263\" stroke=\"#555555\" stroke-width=\"0.00021120480000007545\" fill=\"#66cc99\" opacity=\"0.6\" /><circle cx=\"-88.2191687\" cy=\"40.1060753\" r=\"0.0006336144000002263\" stroke=\"#555555\" stroke-width=\"0.00021120480000007545\" fill=\"#66cc99\" opacity=\"0.6\" /><circle cx=\"-88.2191818\" cy=\"40.1064616\" r=\"0.0006336144000002263\" stroke=\"#555555\" stroke-width=\"0.00021120480000007545\" fill=\"#66cc99\" opacity=\"0.6\" /><circle cx=\"-88.2191912\" cy=\"40.1069963\" r=\"0.0006336144000002263\" stroke=\"#555555\" stroke-width=\"0.00021120480000007545\" fill=\"#66cc99\" opacity=\"0.6\" /><circle cx=\"-88.2192\" cy=\"40.107421\" r=\"0.0006336144000002263\" stroke=\"#555555\" stroke-width=\"0.00021120480000007545\" fill=\"#66cc99\" opacity=\"0.6\" /><circle cx=\"-88.2192067\" cy=\"40.1077613\" r=\"0.0006336144000002263\" stroke=\"#555555\" stroke-width=\"0.00021120480000007545\" fill=\"#66cc99\" opacity=\"0.6\" /><circle cx=\"-88.219266\" cy=\"40.1078488\" r=\"0.0006336144000002263\" stroke=\"#555555\" stroke-width=\"0.00021120480000007545\" fill=\"#66cc99\" opacity=\"0.6\" /><circle cx=\"-88.219271\" cy=\"40.109065\" r=\"0.0006336144000002263\" stroke=\"#555555\" stroke-width=\"0.00021120480000007545\" fill=\"#66cc99\" opacity=\"0.6\" /><circle cx=\"-88.2192676\" cy=\"40.1089709\" r=\"0.0006336144000002263\" stroke=\"#555555\" stroke-width=\"0.00021120480000007545\" fill=\"#66cc99\" opacity=\"0.6\" /><circle cx=\"-88.2192675\" cy=\"40.1089671\" r=\"0.0006336144000002263\" stroke=\"#555555\" stroke-width=\"0.00021120480000007545\" fill=\"#66cc99\" opacity=\"0.6\" /><circle cx=\"-88.2192626\" cy=\"40.108314\" r=\"0.0006336144000002263\" stroke=\"#555555\" stroke-width=\"0.00021120480000007545\" fill=\"#66cc99\" opacity=\"0.6\" /><circle cx=\"-88.219262\" cy=\"40.10824\" r=\"0.0006336144000002263\" stroke=\"#555555\" stroke-width=\"0.00021120480000007545\" fill=\"#66cc99\" opacity=\"0.6\" /><circle cx=\"-88.219266\" cy=\"40.1078488\" r=\"0.0006336144000002263\" stroke=\"#555555\" stroke-width=\"0.00021120480000007545\" fill=\"#66cc99\" opacity=\"0.6\" /><circle cx=\"-88.219271\" cy=\"40.109065\" r=\"0.0006336144000002263\" stroke=\"#555555\" stroke-width=\"0.00021120480000007545\" fill=\"#66cc99\" opacity=\"0.6\" /><circle cx=\"-88.2194237\" cy=\"40.1090644\" r=\"0.0006336144000002263\" stroke=\"#555555\" stroke-width=\"0.00021120480000007545\" fill=\"#66cc99\" opacity=\"0.6\" /><circle cx=\"-88.2198728\" cy=\"40.1090628\" r=\"0.0006336144000002263\" stroke=\"#555555\" stroke-width=\"0.00021120480000007545\" fill=\"#66cc99\" opacity=\"0.6\" /><circle cx=\"-88.22012\" cy=\"40.109062\" r=\"0.0006336144000002263\" stroke=\"#555555\" stroke-width=\"0.00021120480000007545\" fill=\"#66cc99\" opacity=\"0.6\" /><circle cx=\"-88.2204211\" cy=\"40.1090594\" r=\"0.0006336144000002263\" stroke=\"#555555\" stroke-width=\"0.00021120480000007545\" fill=\"#66cc99\" opacity=\"0.6\" /><circle cx=\"-88.2205505\" cy=\"40.1090591\" r=\"0.0006336144000002263\" stroke=\"#555555\" stroke-width=\"0.00021120480000007545\" fill=\"#66cc99\" opacity=\"0.6\" /><circle cx=\"-88.2206713\" cy=\"40.1090575\" r=\"0.0006336144000002263\" stroke=\"#555555\" stroke-width=\"0.00021120480000007545\" fill=\"#66cc99\" opacity=\"0.6\" /><circle cx=\"-88.2208992\" cy=\"40.1090545\" r=\"0.0006336144000002263\" stroke=\"#555555\" stroke-width=\"0.00021120480000007545\" fill=\"#66cc99\" opacity=\"0.6\" /><circle cx=\"-88.2214701\" cy=\"40.109049\" r=\"0.0006336144000002263\" stroke=\"#555555\" stroke-width=\"0.00021120480000007545\" fill=\"#66cc99\" opacity=\"0.6\" /><circle cx=\"-88.22158\" cy=\"40.109048\" r=\"0.0006336144000002263\" stroke=\"#555555\" stroke-width=\"0.00021120480000007545\" fill=\"#66cc99\" opacity=\"0.6\" /><circle cx=\"-88.2216986\" cy=\"40.1090472\" r=\"0.0006336144000002263\" stroke=\"#555555\" stroke-width=\"0.00021120480000007545\" fill=\"#66cc99\" opacity=\"0.6\" /><circle cx=\"-88.2217748\" cy=\"40.1090467\" r=\"0.0006336144000002263\" stroke=\"#555555\" stroke-width=\"0.00021120480000007545\" fill=\"#66cc99\" opacity=\"0.6\" /><circle cx=\"-88.2223743\" cy=\"40.1090428\" r=\"0.0006336144000002263\" stroke=\"#555555\" stroke-width=\"0.00021120480000007545\" fill=\"#66cc99\" opacity=\"0.6\" /><circle cx=\"-88.2226067\" cy=\"40.1090413\" r=\"0.0006336144000002263\" stroke=\"#555555\" stroke-width=\"0.00021120480000007545\" fill=\"#66cc99\" opacity=\"0.6\" /><circle cx=\"-88.2228059\" cy=\"40.10904\" r=\"0.0006336144000002263\" stroke=\"#555555\" stroke-width=\"0.00021120480000007545\" fill=\"#66cc99\" opacity=\"0.6\" /><circle cx=\"-88.2235569\" cy=\"40.109035\" r=\"0.0006336144000002263\" stroke=\"#555555\" stroke-width=\"0.00021120480000007545\" fill=\"#66cc99\" opacity=\"0.6\" /><circle cx=\"-88.2237669\" cy=\"40.1090336\" r=\"0.0006336144000002263\" stroke=\"#555555\" stroke-width=\"0.00021120480000007545\" fill=\"#66cc99\" opacity=\"0.6\" /><circle cx=\"-88.2238802\" cy=\"40.1090329\" r=\"0.0006336144000002263\" stroke=\"#555555\" stroke-width=\"0.00021120480000007545\" fill=\"#66cc99\" opacity=\"0.6\" /><circle cx=\"-88.2238802\" cy=\"40.1090329\" r=\"0.0006336144000002263\" stroke=\"#555555\" stroke-width=\"0.00021120480000007545\" fill=\"#66cc99\" opacity=\"0.6\" /><circle cx=\"-88.2238796\" cy=\"40.1089469\" r=\"0.0006336144000002263\" stroke=\"#555555\" stroke-width=\"0.00021120480000007545\" fill=\"#66cc99\" opacity=\"0.6\" /><circle cx=\"-88.2238766\" cy=\"40.1085184\" r=\"0.0006336144000002263\" stroke=\"#555555\" stroke-width=\"0.00021120480000007545\" fill=\"#66cc99\" opacity=\"0.6\" /><circle cx=\"-88.2238756\" cy=\"40.1083729\" r=\"0.0006336144000002263\" stroke=\"#555555\" stroke-width=\"0.00021120480000007545\" fill=\"#66cc99\" opacity=\"0.6\" /><circle cx=\"-88.223874\" cy=\"40.108148\" r=\"0.0006336144000002263\" stroke=\"#555555\" stroke-width=\"0.00021120480000007545\" fill=\"#66cc99\" opacity=\"0.6\" /><circle cx=\"-88.2238709\" cy=\"40.10801\" r=\"0.0006336144000002263\" stroke=\"#555555\" stroke-width=\"0.00021120480000007545\" fill=\"#66cc99\" opacity=\"0.6\" /><circle cx=\"-88.2238471\" cy=\"40.1070686\" r=\"0.0006336144000002263\" stroke=\"#555555\" stroke-width=\"0.00021120480000007545\" fill=\"#66cc99\" opacity=\"0.6\" /><circle cx=\"-88.2238443\" cy=\"40.1069573\" r=\"0.0006336144000002263\" stroke=\"#555555\" stroke-width=\"0.00021120480000007545\" fill=\"#66cc99\" opacity=\"0.6\" /><circle cx=\"-88.2238448\" cy=\"40.1069063\" r=\"0.0006336144000002263\" stroke=\"#555555\" stroke-width=\"0.00021120480000007545\" fill=\"#66cc99\" opacity=\"0.6\" /><circle cx=\"-88.223853\" cy=\"40.106124\" r=\"0.0006336144000002263\" stroke=\"#555555\" stroke-width=\"0.00021120480000007545\" fill=\"#66cc99\" opacity=\"0.6\" /><circle cx=\"-88.2238495\" cy=\"40.1060425\" r=\"0.0006336144000002263\" stroke=\"#555555\" stroke-width=\"0.00021120480000007545\" fill=\"#66cc99\" opacity=\"0.6\" /><circle cx=\"-88.223846\" cy=\"40.105959\" r=\"0.0006336144000002263\" stroke=\"#555555\" stroke-width=\"0.00021120480000007545\" fill=\"#66cc99\" opacity=\"0.6\" /><circle cx=\"-88.223846\" cy=\"40.105959\" r=\"0.0006336144000002263\" stroke=\"#555555\" stroke-width=\"0.00021120480000007545\" fill=\"#66cc99\" opacity=\"0.6\" /><circle cx=\"-88.2238447\" cy=\"40.1058891\" r=\"0.0006336144000002263\" stroke=\"#555555\" stroke-width=\"0.00021120480000007545\" fill=\"#66cc99\" opacity=\"0.6\" /><circle cx=\"-88.223838\" cy=\"40.1055165\" r=\"0.0006336144000002263\" stroke=\"#555555\" stroke-width=\"0.00021120480000007545\" fill=\"#66cc99\" opacity=\"0.6\" /><circle cx=\"-88.2238363\" cy=\"40.1054188\" r=\"0.0006336144000002263\" stroke=\"#555555\" stroke-width=\"0.00021120480000007545\" fill=\"#66cc99\" opacity=\"0.6\" /><circle cx=\"-88.2238389\" cy=\"40.1053606\" r=\"0.0006336144000002263\" stroke=\"#555555\" stroke-width=\"0.00021120480000007545\" fill=\"#66cc99\" opacity=\"0.6\" /><circle cx=\"-88.2238245\" cy=\"40.1048399\" r=\"0.0006336144000002263\" stroke=\"#555555\" stroke-width=\"0.00021120480000007545\" fill=\"#66cc99\" opacity=\"0.6\" /><circle cx=\"-88.2238207\" cy=\"40.1046471\" r=\"0.0006336144000002263\" stroke=\"#555555\" stroke-width=\"0.00021120480000007545\" fill=\"#66cc99\" opacity=\"0.6\" /><circle cx=\"-88.2238194\" cy=\"40.1042835\" r=\"0.0006336144000002263\" stroke=\"#555555\" stroke-width=\"0.00021120480000007545\" fill=\"#66cc99\" opacity=\"0.6\" /><circle cx=\"-88.223819\" cy=\"40.1041855\" r=\"0.0006336144000002263\" stroke=\"#555555\" stroke-width=\"0.00021120480000007545\" fill=\"#66cc99\" opacity=\"0.6\" /><circle cx=\"-88.230262\" cy=\"40.1041493\" r=\"0.0006336144000002263\" stroke=\"#555555\" stroke-width=\"0.00021120480000007545\" fill=\"#66cc99\" opacity=\"0.6\" /><circle cx=\"-88.230135\" cy=\"40.1041507\" r=\"0.0006336144000002263\" stroke=\"#555555\" stroke-width=\"0.00021120480000007545\" fill=\"#66cc99\" opacity=\"0.6\" /><circle cx=\"-88.2292942\" cy=\"40.1041547\" r=\"0.0006336144000002263\" stroke=\"#555555\" stroke-width=\"0.00021120480000007545\" fill=\"#66cc99\" opacity=\"0.6\" /><circle cx=\"-88.2287814\" cy=\"40.1041576\" r=\"0.0006336144000002263\" stroke=\"#555555\" stroke-width=\"0.00021120480000007545\" fill=\"#66cc99\" opacity=\"0.6\" /><circle cx=\"-88.2282456\" cy=\"40.1041606\" r=\"0.0006336144000002263\" stroke=\"#555555\" stroke-width=\"0.00021120480000007545\" fill=\"#66cc99\" opacity=\"0.6\" /><circle cx=\"-88.2279407\" cy=\"40.1041623\" r=\"0.0006336144000002263\" stroke=\"#555555\" stroke-width=\"0.00021120480000007545\" fill=\"#66cc99\" opacity=\"0.6\" /><circle cx=\"-88.2277981\" cy=\"40.1041631\" r=\"0.0006336144000002263\" stroke=\"#555555\" stroke-width=\"0.00021120480000007545\" fill=\"#66cc99\" opacity=\"0.6\" /><circle cx=\"-88.2275347\" cy=\"40.1041646\" r=\"0.0006336144000002263\" stroke=\"#555555\" stroke-width=\"0.00021120480000007545\" fill=\"#66cc99\" opacity=\"0.6\" /><circle cx=\"-88.2268191\" cy=\"40.1041686\" r=\"0.0006336144000002263\" stroke=\"#555555\" stroke-width=\"0.00021120480000007545\" fill=\"#66cc99\" opacity=\"0.6\" /><circle cx=\"-88.2264922\" cy=\"40.1041705\" r=\"0.0006336144000002263\" stroke=\"#555555\" stroke-width=\"0.00021120480000007545\" fill=\"#66cc99\" opacity=\"0.6\" /><circle cx=\"-88.2264321\" cy=\"40.1041708\" r=\"0.0006336144000002263\" stroke=\"#555555\" stroke-width=\"0.00021120480000007545\" fill=\"#66cc99\" opacity=\"0.6\" /><circle cx=\"-88.2257135\" cy=\"40.1041749\" r=\"0.0006336144000002263\" stroke=\"#555555\" stroke-width=\"0.00021120480000007545\" fill=\"#66cc99\" opacity=\"0.6\" /><circle cx=\"-88.2256923\" cy=\"40.104175\" r=\"0.0006336144000002263\" stroke=\"#555555\" stroke-width=\"0.00021120480000007545\" fill=\"#66cc99\" opacity=\"0.6\" /><circle cx=\"-88.2256499\" cy=\"40.1041752\" r=\"0.0006336144000002263\" stroke=\"#555555\" stroke-width=\"0.00021120480000007545\" fill=\"#66cc99\" opacity=\"0.6\" /><circle cx=\"-88.2252489\" cy=\"40.1041775\" r=\"0.0006336144000002263\" stroke=\"#555555\" stroke-width=\"0.00021120480000007545\" fill=\"#66cc99\" opacity=\"0.6\" /><circle cx=\"-88.2246143\" cy=\"40.104181\" r=\"0.0006336144000002263\" stroke=\"#555555\" stroke-width=\"0.00021120480000007545\" fill=\"#66cc99\" opacity=\"0.6\" /><circle cx=\"-88.2239364\" cy=\"40.1041848\" r=\"0.0006336144000002263\" stroke=\"#555555\" stroke-width=\"0.00021120480000007545\" fill=\"#66cc99\" opacity=\"0.6\" /><circle cx=\"-88.223819\" cy=\"40.1041855\" r=\"0.0006336144000002263\" stroke=\"#555555\" stroke-width=\"0.00021120480000007545\" fill=\"#66cc99\" opacity=\"0.6\" /><circle cx=\"-88.2334489\" cy=\"40.104127\" r=\"0.0006336144000002263\" stroke=\"#555555\" stroke-width=\"0.00021120480000007545\" fill=\"#66cc99\" opacity=\"0.6\" /><circle cx=\"-88.2332797\" cy=\"40.1041323\" r=\"0.0006336144000002263\" stroke=\"#555555\" stroke-width=\"0.00021120480000007545\" fill=\"#66cc99\" opacity=\"0.6\" /><circle cx=\"-88.23316\" cy=\"40.104133\" r=\"0.0006336144000002263\" stroke=\"#555555\" stroke-width=\"0.00021120480000007545\" fill=\"#66cc99\" opacity=\"0.6\" /><circle cx=\"-88.2319406\" cy=\"40.1041376\" r=\"0.0006336144000002263\" stroke=\"#555555\" stroke-width=\"0.00021120480000007545\" fill=\"#66cc99\" opacity=\"0.6\" /><circle cx=\"-88.2314515\" cy=\"40.1041427\" r=\"0.0006336144000002263\" stroke=\"#555555\" stroke-width=\"0.00021120480000007545\" fill=\"#66cc99\" opacity=\"0.6\" /><circle cx=\"-88.231001\" cy=\"40.1041452\" r=\"0.0006336144000002263\" stroke=\"#555555\" stroke-width=\"0.00021120480000007545\" fill=\"#66cc99\" opacity=\"0.6\" /><circle cx=\"-88.2307207\" cy=\"40.1041467\" r=\"0.0006336144000002263\" stroke=\"#555555\" stroke-width=\"0.00021120480000007545\" fill=\"#66cc99\" opacity=\"0.6\" /><circle cx=\"-88.2304171\" cy=\"40.1041484\" r=\"0.0006336144000002263\" stroke=\"#555555\" stroke-width=\"0.00021120480000007545\" fill=\"#66cc99\" opacity=\"0.6\" /><circle cx=\"-88.230262\" cy=\"40.1041493\" r=\"0.0006336144000002263\" stroke=\"#555555\" stroke-width=\"0.00021120480000007545\" fill=\"#66cc99\" opacity=\"0.6\" /><circle cx=\"-88.2334489\" cy=\"40.104127\" r=\"0.0006336144000002263\" stroke=\"#555555\" stroke-width=\"0.00021120480000007545\" fill=\"#66cc99\" opacity=\"0.6\" /><circle cx=\"-88.2334507\" cy=\"40.1040177\" r=\"0.0006336144000002263\" stroke=\"#555555\" stroke-width=\"0.00021120480000007545\" fill=\"#66cc99\" opacity=\"0.6\" /><circle cx=\"-88.2334474\" cy=\"40.1038463\" r=\"0.0006336144000002263\" stroke=\"#555555\" stroke-width=\"0.00021120480000007545\" fill=\"#66cc99\" opacity=\"0.6\" /><circle cx=\"-88.2334442\" cy=\"40.1038051\" r=\"0.0006336144000002263\" stroke=\"#555555\" stroke-width=\"0.00021120480000007545\" fill=\"#66cc99\" opacity=\"0.6\" /><circle cx=\"-88.2334395\" cy=\"40.1035792\" r=\"0.0006336144000002263\" stroke=\"#555555\" stroke-width=\"0.00021120480000007545\" fill=\"#66cc99\" opacity=\"0.6\" /><circle cx=\"-88.2334351\" cy=\"40.1033696\" r=\"0.0006336144000002263\" stroke=\"#555555\" stroke-width=\"0.00021120480000007545\" fill=\"#66cc99\" opacity=\"0.6\" /><circle cx=\"-88.2334328\" cy=\"40.1033236\" r=\"0.0006336144000002263\" stroke=\"#555555\" stroke-width=\"0.00021120480000007545\" fill=\"#66cc99\" opacity=\"0.6\" /><circle cx=\"-88.2334223\" cy=\"40.1030803\" r=\"0.0006336144000002263\" stroke=\"#555555\" stroke-width=\"0.00021120480000007545\" fill=\"#66cc99\" opacity=\"0.6\" /><circle cx=\"-88.2334212\" cy=\"40.1030553\" r=\"0.0006336144000002263\" stroke=\"#555555\" stroke-width=\"0.00021120480000007545\" fill=\"#66cc99\" opacity=\"0.6\" /><circle cx=\"-88.2334198\" cy=\"40.1030237\" r=\"0.0006336144000002263\" stroke=\"#555555\" stroke-width=\"0.00021120480000007545\" fill=\"#66cc99\" opacity=\"0.6\" /><circle cx=\"-88.2334106\" cy=\"40.1025773\" r=\"0.0006336144000002263\" stroke=\"#555555\" stroke-width=\"0.00021120480000007545\" fill=\"#66cc99\" opacity=\"0.6\" /><circle cx=\"-88.233405\" cy=\"40.1021577\" r=\"0.0006336144000002263\" stroke=\"#555555\" stroke-width=\"0.00021120480000007545\" fill=\"#66cc99\" opacity=\"0.6\" /><circle cx=\"-88.2334017\" cy=\"40.102053\" r=\"0.0006336144000002263\" stroke=\"#555555\" stroke-width=\"0.00021120480000007545\" fill=\"#66cc99\" opacity=\"0.6\" /><circle cx=\"-88.2333981\" cy=\"40.1019393\" r=\"0.0006336144000002263\" stroke=\"#555555\" stroke-width=\"0.00021120480000007545\" fill=\"#66cc99\" opacity=\"0.6\" /><circle cx=\"-88.2333952\" cy=\"40.1018492\" r=\"0.0006336144000002263\" stroke=\"#555555\" stroke-width=\"0.00021120480000007545\" fill=\"#66cc99\" opacity=\"0.6\" /><circle cx=\"-88.2333857\" cy=\"40.1015489\" r=\"0.0006336144000002263\" stroke=\"#555555\" stroke-width=\"0.00021120480000007545\" fill=\"#66cc99\" opacity=\"0.6\" /><circle cx=\"-88.233383\" cy=\"40.101464\" r=\"0.0006336144000002263\" stroke=\"#555555\" stroke-width=\"0.00021120480000007545\" fill=\"#66cc99\" opacity=\"0.6\" /><circle cx=\"-88.234435\" cy=\"40.101459\" r=\"0.0006336144000002263\" stroke=\"#555555\" stroke-width=\"0.00021120480000007545\" fill=\"#66cc99\" opacity=\"0.6\" /><circle cx=\"-88.2341975\" cy=\"40.1014601\" r=\"0.0006336144000002263\" stroke=\"#555555\" stroke-width=\"0.00021120480000007545\" fill=\"#66cc99\" opacity=\"0.6\" /><circle cx=\"-88.2335025\" cy=\"40.1014635\" r=\"0.0006336144000002263\" stroke=\"#555555\" stroke-width=\"0.00021120480000007545\" fill=\"#66cc99\" opacity=\"0.6\" /><circle cx=\"-88.233383\" cy=\"40.101464\" r=\"0.0006336144000002263\" stroke=\"#555555\" stroke-width=\"0.00021120480000007545\" fill=\"#66cc99\" opacity=\"0.6\" /><circle cx=\"-88.238615\" cy=\"40.101436\" r=\"0.0006336144000002263\" stroke=\"#555555\" stroke-width=\"0.00021120480000007545\" fill=\"#66cc99\" opacity=\"0.6\" /><circle cx=\"-88.2385106\" cy=\"40.1014366\" r=\"0.0006336144000002263\" stroke=\"#555555\" stroke-width=\"0.00021120480000007545\" fill=\"#66cc99\" opacity=\"0.6\" /><circle cx=\"-88.2384669\" cy=\"40.1014368\" r=\"0.0006336144000002263\" stroke=\"#555555\" stroke-width=\"0.00021120480000007545\" fill=\"#66cc99\" opacity=\"0.6\" /><circle cx=\"-88.2379764\" cy=\"40.1014395\" r=\"0.0006336144000002263\" stroke=\"#555555\" stroke-width=\"0.00021120480000007545\" fill=\"#66cc99\" opacity=\"0.6\" /><circle cx=\"-88.2378224\" cy=\"40.1014403\" r=\"0.0006336144000002263\" stroke=\"#555555\" stroke-width=\"0.00021120480000007545\" fill=\"#66cc99\" opacity=\"0.6\" /><circle cx=\"-88.2372704\" cy=\"40.1014417\" r=\"0.0006336144000002263\" stroke=\"#555555\" stroke-width=\"0.00021120480000007545\" fill=\"#66cc99\" opacity=\"0.6\" /><circle cx=\"-88.237165\" cy=\"40.1014427\" r=\"0.0006336144000002263\" stroke=\"#555555\" stroke-width=\"0.00021120480000007545\" fill=\"#66cc99\" opacity=\"0.6\" /><circle cx=\"-88.2370601\" cy=\"40.1014427\" r=\"0.0006336144000002263\" stroke=\"#555555\" stroke-width=\"0.00021120480000007545\" fill=\"#66cc99\" opacity=\"0.6\" /><circle cx=\"-88.2367819\" cy=\"40.1014446\" r=\"0.0006336144000002263\" stroke=\"#555555\" stroke-width=\"0.00021120480000007545\" fill=\"#66cc99\" opacity=\"0.6\" /><circle cx=\"-88.236188\" cy=\"40.1014488\" r=\"0.0006336144000002263\" stroke=\"#555555\" stroke-width=\"0.00021120480000007545\" fill=\"#66cc99\" opacity=\"0.6\" /><circle cx=\"-88.2359906\" cy=\"40.1014502\" r=\"0.0006336144000002263\" stroke=\"#555555\" stroke-width=\"0.00021120480000007545\" fill=\"#66cc99\" opacity=\"0.6\" /><circle cx=\"-88.2358329\" cy=\"40.1014513\" r=\"0.0006336144000002263\" stroke=\"#555555\" stroke-width=\"0.00021120480000007545\" fill=\"#66cc99\" opacity=\"0.6\" /><circle cx=\"-88.2351071\" cy=\"40.1014545\" r=\"0.0006336144000002263\" stroke=\"#555555\" stroke-width=\"0.00021120480000007545\" fill=\"#66cc99\" opacity=\"0.6\" /><circle cx=\"-88.2347609\" cy=\"40.1014572\" r=\"0.0006336144000002263\" stroke=\"#555555\" stroke-width=\"0.00021120480000007545\" fill=\"#66cc99\" opacity=\"0.6\" /><circle cx=\"-88.2345807\" cy=\"40.1014582\" r=\"0.0006336144000002263\" stroke=\"#555555\" stroke-width=\"0.00021120480000007545\" fill=\"#66cc99\" opacity=\"0.6\" /><circle cx=\"-88.234435\" cy=\"40.101459\" r=\"0.0006336144000002263\" stroke=\"#555555\" stroke-width=\"0.00021120480000007545\" fill=\"#66cc99\" opacity=\"0.6\" /><circle cx=\"-88.238672\" cy=\"40.107907\" r=\"0.0006336144000002263\" stroke=\"#555555\" stroke-width=\"0.00021120480000007545\" fill=\"#66cc99\" opacity=\"0.6\" /><circle cx=\"-88.2385786\" cy=\"40.1079079\" r=\"0.0006336144000002263\" stroke=\"#555555\" stroke-width=\"0.00021120480000007545\" fill=\"#66cc99\" opacity=\"0.6\" /><circle cx=\"-88.2385505\" cy=\"40.1079082\" r=\"0.0006336144000002263\" stroke=\"#555555\" stroke-width=\"0.00021120480000007545\" fill=\"#66cc99\" opacity=\"0.6\" /><circle cx=\"-88.237138\" cy=\"40.1079219\" r=\"0.0006336144000002263\" stroke=\"#555555\" stroke-width=\"0.00021120480000007545\" fill=\"#66cc99\" opacity=\"0.6\" /><circle cx=\"-88.23702\" cy=\"40.107923\" r=\"0.0006336144000002263\" stroke=\"#555555\" stroke-width=\"0.00021120480000007545\" fill=\"#66cc99\" opacity=\"0.6\" /><circle cx=\"-88.23702\" cy=\"40.107923\" r=\"0.0006336144000002263\" stroke=\"#555555\" stroke-width=\"0.00021120480000007545\" fill=\"#66cc99\" opacity=\"0.6\" /><circle cx=\"-88.236919\" cy=\"40.1079239\" r=\"0.0006336144000002263\" stroke=\"#555555\" stroke-width=\"0.00021120480000007545\" fill=\"#66cc99\" opacity=\"0.6\" /><circle cx=\"-88.2356811\" cy=\"40.1079351\" r=\"0.0006336144000002263\" stroke=\"#555555\" stroke-width=\"0.00021120480000007545\" fill=\"#66cc99\" opacity=\"0.6\" /><circle cx=\"-88.2354792\" cy=\"40.1079369\" r=\"0.0006336144000002263\" stroke=\"#555555\" stroke-width=\"0.00021120480000007545\" fill=\"#66cc99\" opacity=\"0.6\" /><circle cx=\"-88.235364\" cy=\"40.107938\" r=\"0.0006336144000002263\" stroke=\"#555555\" stroke-width=\"0.00021120480000007545\" fill=\"#66cc99\" opacity=\"0.6\" /><circle cx=\"-88.2352817\" cy=\"40.1079383\" r=\"0.0006336144000002263\" stroke=\"#555555\" stroke-width=\"0.00021120480000007545\" fill=\"#66cc99\" opacity=\"0.6\" /><circle cx=\"-88.2347772\" cy=\"40.10794\" r=\"0.0006336144000002263\" stroke=\"#555555\" stroke-width=\"0.00021120480000007545\" fill=\"#66cc99\" opacity=\"0.6\" /><circle cx=\"-88.234465\" cy=\"40.107941\" r=\"0.0006336144000002263\" stroke=\"#555555\" stroke-width=\"0.00021120480000007545\" fill=\"#66cc99\" opacity=\"0.6\" /><circle cx=\"-88.233637\" cy=\"40.1079487\" r=\"0.0006336144000002263\" stroke=\"#555555\" stroke-width=\"0.00021120480000007545\" fill=\"#66cc99\" opacity=\"0.6\" /><circle cx=\"-88.2335\" cy=\"40.10795\" r=\"0.0006336144000002263\" stroke=\"#555555\" stroke-width=\"0.00021120480000007545\" fill=\"#66cc99\" opacity=\"0.6\" /><circle cx=\"-88.2335\" cy=\"40.10795\" r=\"0.0006336144000002263\" stroke=\"#555555\" stroke-width=\"0.00021120480000007545\" fill=\"#66cc99\" opacity=\"0.6\" /><circle cx=\"-88.2334986\" cy=\"40.1078736\" r=\"0.0006336144000002263\" stroke=\"#555555\" stroke-width=\"0.00021120480000007545\" fill=\"#66cc99\" opacity=\"0.6\" /><circle cx=\"-88.2334908\" cy=\"40.1074618\" r=\"0.0006336144000002263\" stroke=\"#555555\" stroke-width=\"0.00021120480000007545\" fill=\"#66cc99\" opacity=\"0.6\" /><circle cx=\"-88.233488\" cy=\"40.1073158\" r=\"0.0006336144000002263\" stroke=\"#555555\" stroke-width=\"0.00021120480000007545\" fill=\"#66cc99\" opacity=\"0.6\" /><circle cx=\"-88.233482\" cy=\"40.106999\" r=\"0.0006336144000002263\" stroke=\"#555555\" stroke-width=\"0.00021120480000007545\" fill=\"#66cc99\" opacity=\"0.6\" /><circle cx=\"-88.233475\" cy=\"40.106815\" r=\"0.0006336144000002263\" stroke=\"#555555\" stroke-width=\"0.00021120480000007545\" fill=\"#66cc99\" opacity=\"0.6\" /><circle cx=\"-88.233475\" cy=\"40.106815\" r=\"0.0006336144000002263\" stroke=\"#555555\" stroke-width=\"0.00021120480000007545\" fill=\"#66cc99\" opacity=\"0.6\" /><circle cx=\"-88.2334769\" cy=\"40.1066566\" r=\"0.0006336144000002263\" stroke=\"#555555\" stroke-width=\"0.00021120480000007545\" fill=\"#66cc99\" opacity=\"0.6\" /><circle cx=\"-88.233478\" cy=\"40.106573\" r=\"0.0006336144000002263\" stroke=\"#555555\" stroke-width=\"0.00021120480000007545\" fill=\"#66cc99\" opacity=\"0.6\" /><circle cx=\"-88.233478\" cy=\"40.106573\" r=\"0.0006336144000002263\" stroke=\"#555555\" stroke-width=\"0.00021120480000007545\" fill=\"#66cc99\" opacity=\"0.6\" /><circle cx=\"-88.2334719\" cy=\"40.1063013\" r=\"0.0006336144000002263\" stroke=\"#555555\" stroke-width=\"0.00021120480000007545\" fill=\"#66cc99\" opacity=\"0.6\" /><circle cx=\"-88.2334624\" cy=\"40.1058794\" r=\"0.0006336144000002263\" stroke=\"#555555\" stroke-width=\"0.00021120480000007545\" fill=\"#66cc99\" opacity=\"0.6\" /><circle cx=\"-88.2334544\" cy=\"40.1055188\" r=\"0.0006336144000002263\" stroke=\"#555555\" stroke-width=\"0.00021120480000007545\" fill=\"#66cc99\" opacity=\"0.6\" /><circle cx=\"-88.233452\" cy=\"40.105413\" r=\"0.0006336144000002263\" stroke=\"#555555\" stroke-width=\"0.00021120480000007545\" fill=\"#66cc99\" opacity=\"0.6\" /><circle cx=\"-88.233452\" cy=\"40.105413\" r=\"0.0006336144000002263\" stroke=\"#555555\" stroke-width=\"0.00021120480000007545\" fill=\"#66cc99\" opacity=\"0.6\" /><circle cx=\"-88.2333464\" cy=\"40.1054137\" r=\"0.0006336144000002263\" stroke=\"#555555\" stroke-width=\"0.00021120480000007545\" fill=\"#66cc99\" opacity=\"0.6\" /><circle cx=\"-88.231955\" cy=\"40.105423\" r=\"0.0006336144000002263\" stroke=\"#555555\" stroke-width=\"0.00021120480000007545\" fill=\"#66cc99\" opacity=\"0.6\" /><circle cx=\"-88.230956\" cy=\"40.105427\" r=\"0.0006336144000002263\" stroke=\"#555555\" stroke-width=\"0.00021120480000007545\" fill=\"#66cc99\" opacity=\"0.6\" /><circle cx=\"-88.2304328\" cy=\"40.1054322\" r=\"0.0006336144000002263\" stroke=\"#555555\" stroke-width=\"0.00021120480000007545\" fill=\"#66cc99\" opacity=\"0.6\" /><circle cx=\"-88.230294\" cy=\"40.105433\" r=\"0.0006336144000002263\" stroke=\"#555555\" stroke-width=\"0.00021120480000007545\" fill=\"#66cc99\" opacity=\"0.6\" /><circle cx=\"-88.230294\" cy=\"40.105433\" r=\"0.0006336144000002263\" stroke=\"#555555\" stroke-width=\"0.00021120480000007545\" fill=\"#66cc99\" opacity=\"0.6\" /><circle cx=\"-88.2301666\" cy=\"40.1054341\" r=\"0.0006336144000002263\" stroke=\"#555555\" stroke-width=\"0.00021120480000007545\" fill=\"#66cc99\" opacity=\"0.6\" /><circle cx=\"-88.2295091\" cy=\"40.1054384\" r=\"0.0006336144000002263\" stroke=\"#555555\" stroke-width=\"0.00021120480000007545\" fill=\"#66cc99\" opacity=\"0.6\" /><circle cx=\"-88.229003\" cy=\"40.10544\" r=\"0.0006336144000002263\" stroke=\"#555555\" stroke-width=\"0.00021120480000007545\" fill=\"#66cc99\" opacity=\"0.6\" /><circle cx=\"-88.2289416\" cy=\"40.1054445\" r=\"0.0006336144000002263\" stroke=\"#555555\" stroke-width=\"0.00021120480000007545\" fill=\"#66cc99\" opacity=\"0.6\" /><circle cx=\"-88.2289167\" cy=\"40.1054508\" r=\"0.0006336144000002263\" stroke=\"#555555\" stroke-width=\"0.00021120480000007545\" fill=\"#66cc99\" opacity=\"0.6\" /><circle cx=\"-88.228893\" cy=\"40.1054568\" r=\"0.0006336144000002263\" stroke=\"#555555\" stroke-width=\"0.00021120480000007545\" fill=\"#66cc99\" opacity=\"0.6\" /><circle cx=\"-88.228893\" cy=\"40.1054568\" r=\"0.0006336144000002263\" stroke=\"#555555\" stroke-width=\"0.00021120480000007545\" fill=\"#66cc99\" opacity=\"0.6\" /><circle cx=\"-88.2288523\" cy=\"40.1054765\" r=\"0.0006336144000002263\" stroke=\"#555555\" stroke-width=\"0.00021120480000007545\" fill=\"#66cc99\" opacity=\"0.6\" /><circle cx=\"-88.2288257\" cy=\"40.1055067\" r=\"0.0006336144000002263\" stroke=\"#555555\" stroke-width=\"0.00021120480000007545\" fill=\"#66cc99\" opacity=\"0.6\" /><circle cx=\"-88.228824\" cy=\"40.105513\" r=\"0.0006336144000002263\" stroke=\"#555555\" stroke-width=\"0.00021120480000007545\" fill=\"#66cc99\" opacity=\"0.6\" /><circle cx=\"-88.228815\" cy=\"40.1055477\" r=\"0.0006336144000002263\" stroke=\"#555555\" stroke-width=\"0.00021120480000007545\" fill=\"#66cc99\" opacity=\"0.6\" /><circle cx=\"-88.2288211\" cy=\"40.1059283\" r=\"0.0006336144000002263\" stroke=\"#555555\" stroke-width=\"0.00021120480000007545\" fill=\"#66cc99\" opacity=\"0.6\" /><circle cx=\"-88.2288224\" cy=\"40.1060099\" r=\"0.0006336144000002263\" stroke=\"#555555\" stroke-width=\"0.00021120480000007545\" fill=\"#66cc99\" opacity=\"0.6\" /><circle cx=\"-88.2288238\" cy=\"40.1060985\" r=\"0.0006336144000002263\" stroke=\"#555555\" stroke-width=\"0.00021120480000007545\" fill=\"#66cc99\" opacity=\"0.6\" /><circle cx=\"-88.2288345\" cy=\"40.1067705\" r=\"0.0006336144000002263\" stroke=\"#555555\" stroke-width=\"0.00021120480000007545\" fill=\"#66cc99\" opacity=\"0.6\" /><circle cx=\"-88.2288346\" cy=\"40.1067748\" r=\"0.0006336144000002263\" stroke=\"#555555\" stroke-width=\"0.00021120480000007545\" fill=\"#66cc99\" opacity=\"0.6\" /><circle cx=\"-88.2288346\" cy=\"40.1067748\" r=\"0.0006336144000002263\" stroke=\"#555555\" stroke-width=\"0.00021120480000007545\" fill=\"#66cc99\" opacity=\"0.6\" /><circle cx=\"-88.2288358\" cy=\"40.1069008\" r=\"0.0006336144000002263\" stroke=\"#555555\" stroke-width=\"0.00021120480000007545\" fill=\"#66cc99\" opacity=\"0.6\" /><circle cx=\"-88.2288503\" cy=\"40.1079812\" r=\"0.0006336144000002263\" stroke=\"#555555\" stroke-width=\"0.00021120480000007545\" fill=\"#66cc99\" opacity=\"0.6\" /><circle cx=\"-88.2288491\" cy=\"40.1079137\" r=\"0.0006336144000002263\" stroke=\"#555555\" stroke-width=\"0.00021120480000007545\" fill=\"#66cc99\" opacity=\"0.6\" /><circle cx=\"-88.2288452\" cy=\"40.1076947\" r=\"0.0006336144000002263\" stroke=\"#555555\" stroke-width=\"0.00021120480000007545\" fill=\"#66cc99\" opacity=\"0.6\" /><circle cx=\"-88.2288378\" cy=\"40.1075497\" r=\"0.0006336144000002263\" stroke=\"#555555\" stroke-width=\"0.00021120480000007545\" fill=\"#66cc99\" opacity=\"0.6\" /><circle cx=\"-88.2288358\" cy=\"40.1072957\" r=\"0.0006336144000002263\" stroke=\"#555555\" stroke-width=\"0.00021120480000007545\" fill=\"#66cc99\" opacity=\"0.6\" /><circle cx=\"-88.228834\" cy=\"40.1070589\" r=\"0.0006336144000002263\" stroke=\"#555555\" stroke-width=\"0.00021120480000007545\" fill=\"#66cc99\" opacity=\"0.6\" /><circle cx=\"-88.2288356\" cy=\"40.1069202\" r=\"0.0006336144000002263\" stroke=\"#555555\" stroke-width=\"0.00021120480000007545\" fill=\"#66cc99\" opacity=\"0.6\" /><circle cx=\"-88.2288358\" cy=\"40.1069008\" r=\"0.0006336144000002263\" stroke=\"#555555\" stroke-width=\"0.00021120480000007545\" fill=\"#66cc99\" opacity=\"0.6\" /><circle cx=\"-88.2288503\" cy=\"40.1079812\" r=\"0.0006336144000002263\" stroke=\"#555555\" stroke-width=\"0.00021120480000007545\" fill=\"#66cc99\" opacity=\"0.6\" /><circle cx=\"-88.2288479\" cy=\"40.108044\" r=\"0.0006336144000002263\" stroke=\"#555555\" stroke-width=\"0.00021120480000007545\" fill=\"#66cc99\" opacity=\"0.6\" /><circle cx=\"-88.2288481\" cy=\"40.1080563\" r=\"0.0006336144000002263\" stroke=\"#555555\" stroke-width=\"0.00021120480000007545\" fill=\"#66cc99\" opacity=\"0.6\" /><circle cx=\"-88.2288522\" cy=\"40.1083906\" r=\"0.0006336144000002263\" stroke=\"#555555\" stroke-width=\"0.00021120480000007545\" fill=\"#66cc99\" opacity=\"0.6\" /><circle cx=\"-88.2288522\" cy=\"40.1083906\" r=\"0.0006336144000002263\" stroke=\"#555555\" stroke-width=\"0.00021120480000007545\" fill=\"#66cc99\" opacity=\"0.6\" /><circle cx=\"-88.2288562\" cy=\"40.1087182\" r=\"0.0006336144000002263\" stroke=\"#555555\" stroke-width=\"0.00021120480000007545\" fill=\"#66cc99\" opacity=\"0.6\" /><circle cx=\"-88.2288571\" cy=\"40.1087934\" r=\"0.0006336144000002263\" stroke=\"#555555\" stroke-width=\"0.00021120480000007545\" fill=\"#66cc99\" opacity=\"0.6\" /><circle cx=\"-88.228863\" cy=\"40.10901\" r=\"0.0006336144000002263\" stroke=\"#555555\" stroke-width=\"0.00021120480000007545\" fill=\"#66cc99\" opacity=\"0.6\" /><circle cx=\"-88.228865\" cy=\"40.1090844\" r=\"0.0006336144000002263\" stroke=\"#555555\" stroke-width=\"0.00021120480000007545\" fill=\"#66cc99\" opacity=\"0.6\" /><circle cx=\"-88.228865\" cy=\"40.1090844\" r=\"0.0006336144000002263\" stroke=\"#555555\" stroke-width=\"0.00021120480000007545\" fill=\"#66cc99\" opacity=\"0.6\" /><circle cx=\"-88.2288667\" cy=\"40.1091735\" r=\"0.0006336144000002263\" stroke=\"#555555\" stroke-width=\"0.00021120480000007545\" fill=\"#66cc99\" opacity=\"0.6\" /><circle cx=\"-88.2288767\" cy=\"40.1096888\" r=\"0.0006336144000002263\" stroke=\"#555555\" stroke-width=\"0.00021120480000007545\" fill=\"#66cc99\" opacity=\"0.6\" /><circle cx=\"-88.2288868\" cy=\"40.1102082\" r=\"0.0006336144000002263\" stroke=\"#555555\" stroke-width=\"0.00021120480000007545\" fill=\"#66cc99\" opacity=\"0.6\" /><circle cx=\"-88.2288878\" cy=\"40.110258\" r=\"0.0006336144000002263\" stroke=\"#555555\" stroke-width=\"0.00021120480000007545\" fill=\"#66cc99\" opacity=\"0.6\" /><circle cx=\"-88.2288903\" cy=\"40.1102922\" r=\"0.0006336144000002263\" stroke=\"#555555\" stroke-width=\"0.00021120480000007545\" fill=\"#66cc99\" opacity=\"0.6\" /><circle cx=\"-88.2288903\" cy=\"40.1102922\" r=\"0.0006336144000002263\" stroke=\"#555555\" stroke-width=\"0.00021120480000007545\" fill=\"#66cc99\" opacity=\"0.6\" /><circle cx=\"-88.2287567\" cy=\"40.1103085\" r=\"0.0006336144000002263\" stroke=\"#555555\" stroke-width=\"0.00021120480000007545\" fill=\"#66cc99\" opacity=\"0.6\" /><circle cx=\"-88.2285734\" cy=\"40.1103124\" r=\"0.0006336144000002263\" stroke=\"#555555\" stroke-width=\"0.00021120480000007545\" fill=\"#66cc99\" opacity=\"0.6\" /><circle cx=\"-88.2283234\" cy=\"40.110309\" r=\"0.0006336144000002263\" stroke=\"#555555\" stroke-width=\"0.00021120480000007545\" fill=\"#66cc99\" opacity=\"0.6\" /><circle cx=\"-88.2283234\" cy=\"40.110309\" r=\"0.0006336144000002263\" stroke=\"#555555\" stroke-width=\"0.00021120480000007545\" fill=\"#66cc99\" opacity=\"0.6\" /><circle cx=\"-88.2280173\" cy=\"40.1103091\" r=\"0.0006336144000002263\" stroke=\"#555555\" stroke-width=\"0.00021120480000007545\" fill=\"#66cc99\" opacity=\"0.6\" /><circle cx=\"-88.2277415\" cy=\"40.1103054\" r=\"0.0006336144000002263\" stroke=\"#555555\" stroke-width=\"0.00021120480000007545\" fill=\"#66cc99\" opacity=\"0.6\" /><circle cx=\"-88.2276782\" cy=\"40.1103055\" r=\"0.0006336144000002263\" stroke=\"#555555\" stroke-width=\"0.00021120480000007545\" fill=\"#66cc99\" opacity=\"0.6\" /><circle cx=\"-88.2276782\" cy=\"40.1103055\" r=\"0.0006336144000002263\" stroke=\"#555555\" stroke-width=\"0.00021120480000007545\" fill=\"#66cc99\" opacity=\"0.6\" /><circle cx=\"-88.2273108\" cy=\"40.110364\" r=\"0.0006336144000002263\" stroke=\"#555555\" stroke-width=\"0.00021120480000007545\" fill=\"#66cc99\" opacity=\"0.6\" /><circle cx=\"-88.2267165\" cy=\"40.1104551\" r=\"0.0006336144000002263\" stroke=\"#555555\" stroke-width=\"0.00021120480000007545\" fill=\"#66cc99\" opacity=\"0.6\" /><circle cx=\"-88.226616\" cy=\"40.1104656\" r=\"0.0006336144000002263\" stroke=\"#555555\" stroke-width=\"0.00021120480000007545\" fill=\"#66cc99\" opacity=\"0.6\" /><circle cx=\"-88.2264753\" cy=\"40.1104744\" r=\"0.0006336144000002263\" stroke=\"#555555\" stroke-width=\"0.00021120480000007545\" fill=\"#66cc99\" opacity=\"0.6\" /><circle cx=\"-88.2264362\" cy=\"40.1104731\" r=\"0.0006336144000002263\" stroke=\"#555555\" stroke-width=\"0.00021120480000007545\" fill=\"#66cc99\" opacity=\"0.6\" /><circle cx=\"-88.2264753\" cy=\"40.1104744\" r=\"0.0006336144000002263\" stroke=\"#555555\" stroke-width=\"0.00021120480000007545\" fill=\"#66cc99\" opacity=\"0.6\" /><circle cx=\"-88.2239311\" cy=\"40.1104997\" r=\"0.0006336144000002263\" stroke=\"#555555\" stroke-width=\"0.00021120480000007545\" fill=\"#66cc99\" opacity=\"0.6\" /><circle cx=\"-88.2240627\" cy=\"40.1104979\" r=\"0.0006336144000002263\" stroke=\"#555555\" stroke-width=\"0.00021120480000007545\" fill=\"#66cc99\" opacity=\"0.6\" /><circle cx=\"-88.2250112\" cy=\"40.1104853\" r=\"0.0006336144000002263\" stroke=\"#555555\" stroke-width=\"0.00021120480000007545\" fill=\"#66cc99\" opacity=\"0.6\" /><circle cx=\"-88.2251777\" cy=\"40.110483\" r=\"0.0006336144000002263\" stroke=\"#555555\" stroke-width=\"0.00021120480000007545\" fill=\"#66cc99\" opacity=\"0.6\" /><circle cx=\"-88.2254279\" cy=\"40.1104797\" r=\"0.0006336144000002263\" stroke=\"#555555\" stroke-width=\"0.00021120480000007545\" fill=\"#66cc99\" opacity=\"0.6\" /><circle cx=\"-88.2254822\" cy=\"40.110479\" r=\"0.0006336144000002263\" stroke=\"#555555\" stroke-width=\"0.00021120480000007545\" fill=\"#66cc99\" opacity=\"0.6\" /><circle cx=\"-88.2255267\" cy=\"40.1104784\" r=\"0.0006336144000002263\" stroke=\"#555555\" stroke-width=\"0.00021120480000007545\" fill=\"#66cc99\" opacity=\"0.6\" /><circle cx=\"-88.2255809\" cy=\"40.1104777\" r=\"0.0006336144000002263\" stroke=\"#555555\" stroke-width=\"0.00021120480000007545\" fill=\"#66cc99\" opacity=\"0.6\" /><circle cx=\"-88.2257157\" cy=\"40.1104759\" r=\"0.0006336144000002263\" stroke=\"#555555\" stroke-width=\"0.00021120480000007545\" fill=\"#66cc99\" opacity=\"0.6\" /><circle cx=\"-88.2264362\" cy=\"40.1104731\" r=\"0.0006336144000002263\" stroke=\"#555555\" stroke-width=\"0.00021120480000007545\" fill=\"#66cc99\" opacity=\"0.6\" /><circle cx=\"-88.2239538\" cy=\"40.111987\" r=\"0.0006336144000002263\" stroke=\"#555555\" stroke-width=\"0.00021120480000007545\" fill=\"#66cc99\" opacity=\"0.6\" /><circle cx=\"-88.223949\" cy=\"40.111665\" r=\"0.0006336144000002263\" stroke=\"#555555\" stroke-width=\"0.00021120480000007545\" fill=\"#66cc99\" opacity=\"0.6\" /><circle cx=\"-88.2239435\" cy=\"40.1114706\" r=\"0.0006336144000002263\" stroke=\"#555555\" stroke-width=\"0.00021120480000007545\" fill=\"#66cc99\" opacity=\"0.6\" /><circle cx=\"-88.223941\" cy=\"40.111381\" r=\"0.0006336144000002263\" stroke=\"#555555\" stroke-width=\"0.00021120480000007545\" fill=\"#66cc99\" opacity=\"0.6\" /><circle cx=\"-88.2239406\" cy=\"40.1113261\" r=\"0.0006336144000002263\" stroke=\"#555555\" stroke-width=\"0.00021120480000007545\" fill=\"#66cc99\" opacity=\"0.6\" /><circle cx=\"-88.22394\" cy=\"40.111253\" r=\"0.0006336144000002263\" stroke=\"#555555\" stroke-width=\"0.00021120480000007545\" fill=\"#66cc99\" opacity=\"0.6\" /><circle cx=\"-88.2239375\" cy=\"40.1110181\" r=\"0.0006336144000002263\" stroke=\"#555555\" stroke-width=\"0.00021120480000007545\" fill=\"#66cc99\" opacity=\"0.6\" /><circle cx=\"-88.2239331\" cy=\"40.1106102\" r=\"0.0006336144000002263\" stroke=\"#555555\" stroke-width=\"0.00021120480000007545\" fill=\"#66cc99\" opacity=\"0.6\" /><circle cx=\"-88.2239311\" cy=\"40.1104997\" r=\"0.0006336144000002263\" stroke=\"#555555\" stroke-width=\"0.00021120480000007545\" fill=\"#66cc99\" opacity=\"0.6\" /><circle cx=\"-88.2239653\" cy=\"40.1127762\" r=\"0.0006336144000002263\" stroke=\"#555555\" stroke-width=\"0.00021120480000007545\" fill=\"#66cc99\" opacity=\"0.6\" /><circle cx=\"-88.223964\" cy=\"40.1126858\" r=\"0.0006336144000002263\" stroke=\"#555555\" stroke-width=\"0.00021120480000007545\" fill=\"#66cc99\" opacity=\"0.6\" /><circle cx=\"-88.2239575\" cy=\"40.1122421\" r=\"0.0006336144000002263\" stroke=\"#555555\" stroke-width=\"0.00021120480000007545\" fill=\"#66cc99\" opacity=\"0.6\" /><circle cx=\"-88.2239565\" cy=\"40.1121831\" r=\"0.0006336144000002263\" stroke=\"#555555\" stroke-width=\"0.00021120480000007545\" fill=\"#66cc99\" opacity=\"0.6\" /><circle cx=\"-88.2239538\" cy=\"40.111987\" r=\"0.0006336144000002263\" stroke=\"#555555\" stroke-width=\"0.00021120480000007545\" fill=\"#66cc99\" opacity=\"0.6\" /><circle cx=\"-88.2239653\" cy=\"40.1127762\" r=\"0.0006336144000002263\" stroke=\"#555555\" stroke-width=\"0.00021120480000007545\" fill=\"#66cc99\" opacity=\"0.6\" /><circle cx=\"-88.2239675\" cy=\"40.1128651\" r=\"0.0006336144000002263\" stroke=\"#555555\" stroke-width=\"0.00021120480000007545\" fill=\"#66cc99\" opacity=\"0.6\" /><circle cx=\"-88.2239746\" cy=\"40.1131457\" r=\"0.0006336144000002263\" stroke=\"#555555\" stroke-width=\"0.00021120480000007545\" fill=\"#66cc99\" opacity=\"0.6\" /><circle cx=\"-88.2239857\" cy=\"40.1134557\" r=\"0.0006336144000002263\" stroke=\"#555555\" stroke-width=\"0.00021120480000007545\" fill=\"#66cc99\" opacity=\"0.6\" /><circle cx=\"-88.223988\" cy=\"40.113535\" r=\"0.0006336144000002263\" stroke=\"#555555\" stroke-width=\"0.00021120480000007545\" fill=\"#66cc99\" opacity=\"0.6\" /><circle cx=\"-88.2239924\" cy=\"40.1136189\" r=\"0.0006336144000002263\" stroke=\"#555555\" stroke-width=\"0.00021120480000007545\" fill=\"#66cc99\" opacity=\"0.6\" /><circle cx=\"-88.2240021\" cy=\"40.1140165\" r=\"0.0006336144000002263\" stroke=\"#555555\" stroke-width=\"0.00021120480000007545\" fill=\"#66cc99\" opacity=\"0.6\" /><circle cx=\"-88.2240133\" cy=\"40.1144004\" r=\"0.0006336144000002263\" stroke=\"#555555\" stroke-width=\"0.00021120480000007545\" fill=\"#66cc99\" opacity=\"0.6\" /><circle cx=\"-88.2240156\" cy=\"40.1144802\" r=\"0.0006336144000002263\" stroke=\"#555555\" stroke-width=\"0.00021120480000007545\" fill=\"#66cc99\" opacity=\"0.6\" /><circle cx=\"-88.2240165\" cy=\"40.1145612\" r=\"0.0006336144000002263\" stroke=\"#555555\" stroke-width=\"0.00021120480000007545\" fill=\"#66cc99\" opacity=\"0.6\" /><circle cx=\"-88.224021\" cy=\"40.114993\" r=\"0.0006336144000002263\" stroke=\"#555555\" stroke-width=\"0.00021120480000007545\" fill=\"#66cc99\" opacity=\"0.6\" /><circle cx=\"-88.2240275\" cy=\"40.1153418\" r=\"0.0006336144000002263\" stroke=\"#555555\" stroke-width=\"0.00021120480000007545\" fill=\"#66cc99\" opacity=\"0.6\" /><circle cx=\"-88.224029\" cy=\"40.1154224\" r=\"0.0006336144000002263\" stroke=\"#555555\" stroke-width=\"0.00021120480000007545\" fill=\"#66cc99\" opacity=\"0.6\" /><circle cx=\"-88.2240303\" cy=\"40.1155025\" r=\"0.0006336144000002263\" stroke=\"#555555\" stroke-width=\"0.00021120480000007545\" fill=\"#66cc99\" opacity=\"0.6\" /><circle cx=\"-88.2240349\" cy=\"40.1157994\" r=\"0.0006336144000002263\" stroke=\"#555555\" stroke-width=\"0.00021120480000007545\" fill=\"#66cc99\" opacity=\"0.6\" /><circle cx=\"-88.2240421\" cy=\"40.1162523\" r=\"0.0006336144000002263\" stroke=\"#555555\" stroke-width=\"0.00021120480000007545\" fill=\"#66cc99\" opacity=\"0.6\" /><circle cx=\"-88.2240443\" cy=\"40.1163947\" r=\"0.0006336144000002263\" stroke=\"#555555\" stroke-width=\"0.00021120480000007545\" fill=\"#66cc99\" opacity=\"0.6\" /></g></g></svg>"
      ],
      "text/plain": [
       "<shapely.geometry.multipoint.MultiPoint at 0x126c3a8d0>"
      ]
     },
     "execution_count": 47,
     "metadata": {},
     "output_type": "execute_result"
    }
   ],
   "source": [
    "MTD22N_Vertices = shapely.wkt.loads(MTD22N_Vertices[0][1])\n",
    "MTD22N_Vertices"
   ]
  },
  {
   "cell_type": "markdown",
   "metadata": {},
   "source": [
    "### 3.3 Spatial Relationships"
   ]
  },
  {
   "cell_type": "code",
   "execution_count": 48,
   "metadata": {},
   "outputs": [
    {
     "name": "stdout",
     "output_type": "stream",
     "text": [
      " * postgresql://localhost:5432/postgisdemo\n",
      "1 rows affected.\n",
      "Returning data to local variable circles\n"
     ]
    }
   ],
   "source": [
    "%%sql circles <<\n",
    "SELECT ST_AsText(ST_Buffer(ST_GeomFromText('POINT(1 2)'), 10)) As smallc,\n",
    "    ST_AsText(ST_Buffer(ST_GeomFromText('POINT(1 2)'), 20)) As bigc"
   ]
  },
  {
   "cell_type": "code",
   "execution_count": 49,
   "metadata": {},
   "outputs": [
    {
     "data": {
      "image/svg+xml": [
       "<svg xmlns=\"http://www.w3.org/2000/svg\" xmlns:xlink=\"http://www.w3.org/1999/xlink\" width=\"100.0\" height=\"100.0\" viewBox=\"-20.6 -19.6 43.2 43.2\" preserveAspectRatio=\"xMinYMin meet\"><g transform=\"matrix(1,0,0,-1,0,4.0)\"><g><path fill-rule=\"evenodd\" fill=\"#ff3333\" stroke=\"#555555\" stroke-width=\"0.8640000000000001\" opacity=\"0.6\" d=\"M 11.0,2.0 L 10.8078528040323,0.049096779838719 L 10.2387953251129,-1.82683432365089 L 9.31469612302546,-3.55570233019602 L 8.07106781186548,-5.07106781186547 L 6.55570233019603,-6.31469612302545 L 4.82683432365091,-7.23879532511286 L 2.9509032201613,-7.8078528040323 L 1.00000000000002,-8.0 L -0.950903220161265,-7.80785280403231 L -2.82683432365088,-7.23879532511287 L -4.555702330196,-6.31469612302547 L -6.07106781186546,-5.07106781186549 L -7.31469612302544,-3.55570233019604 L -8.23879532511286,-1.82683432365092 L -8.8078528040323,0.049096779838688 L -9.0,1.99999999999997 L -8.80785280403231,3.95090322016125 L -8.23879532511288,5.82683432365086 L -7.31469612302547,7.55570233019599 L -6.0710678118655,9.07106781186545 L -4.55570233019606,10.3146961230254 L -2.82683432365094,11.2387953251129 L -0.950903220161322,11.8078528040323 L 0.999999999999963,12.0 L 2.95090322016125,11.8078528040323 L 4.82683432365087,11.2387953251129 L 6.555702330196,10.3146961230255 L 8.07106781186545,9.0710678118655 L 9.31469612302544,7.55570233019604 L 10.2387953251129,5.82683432365092 L 10.8078528040323,3.9509032201613 L 11.0,2.0 z\" /><path fill-rule=\"evenodd\" fill=\"#ff3333\" stroke=\"#555555\" stroke-width=\"0.8640000000000001\" opacity=\"0.6\" d=\"M 21.0,2.0 L 20.6157056080646,-1.90180644032256 L 19.4775906502257,-5.65366864730179 L 17.6293922460509,-9.11140466039203 L 15.142135623731,-12.1421356237309 L 12.1114046603921,-14.6293922460509 L 8.65366864730182,-16.4775906502257 L 4.90180644032259,-17.6157056080646 L 1.00000000000003,-18.0 L -2.90180644032253,-17.6157056080646 L -6.65366864730176,-16.4775906502257 L -10.111404660392,-14.6293922460509 L -13.1421356237309,-12.142135623731 L -15.6293922460509,-9.11140466039209 L -17.4775906502257,-5.65366864730185 L -18.6157056080646,-1.90180644032262 L -19.0,1.99999999999994 L -18.6157056080646,5.9018064403225 L -17.4775906502258,9.65366864730173 L -15.6293922460509,13.111404660392 L -13.142135623731,16.1421356237309 L -10.1114046603921,18.6293922460509 L -6.65366864730187,20.4775906502257 L -2.90180644032264,21.6157056080646 L 0.999999999999925,22.0 L 4.9018064403225,21.6157056080646 L 8.65366864730174,20.4775906502258 L 12.111404660392,18.6293922460509 L 15.1421356237309,16.142135623731 L 17.6293922460509,13.1114046603921 L 19.4775906502257,9.65366864730184 L 20.6157056080646,5.90180644032261 L 21.0,2.0 z\" /></g></g></svg>"
      ],
      "text/plain": [
       "<shapely.geometry.multipolygon.MultiPolygon at 0x126c41610>"
      ]
     },
     "execution_count": 49,
     "metadata": {},
     "output_type": "execute_result"
    }
   ],
   "source": [
    "smallc = shapely.wkt.loads(circles[0][0])\n",
    "bigc = shapely.wkt.loads(circles[0][1])\n",
    "circles_ = shapely.geometry.MultiPolygon([smallc, bigc])\n",
    "circles_"
   ]
  },
  {
   "cell_type": "markdown",
   "metadata": {},
   "source": [
    "This is an example explaining some common spatial relationship functions of PostGIS. [Source](https://postgis.net/docs/ST_Contains.html)"
   ]
  },
  {
   "cell_type": "code",
   "execution_count": 50,
   "metadata": {},
   "outputs": [
    {
     "name": "stdout",
     "output_type": "stream",
     "text": [
      " * postgresql://localhost:5432/postgisdemo\n",
      "1 rows affected.\n"
     ]
    },
    {
     "data": {
      "text/html": [
       "<table>\n",
       "    <tr>\n",
       "        <th>small_contains_big</th>\n",
       "        <th>bigcontainssmall</th>\n",
       "        <th>big_contains_union</th>\n",
       "        <th>big_is_union</th>\n",
       "        <th>big_covers_exterior</th>\n",
       "        <th>big_contains_exterior</th>\n",
       "    </tr>\n",
       "    <tr>\n",
       "        <td>False</td>\n",
       "        <td>True</td>\n",
       "        <td>True</td>\n",
       "        <td>True</td>\n",
       "        <td>True</td>\n",
       "        <td>False</td>\n",
       "    </tr>\n",
       "</table>"
      ],
      "text/plain": [
       "[(False, True, True, True, True, False)]"
      ]
     },
     "execution_count": 50,
     "metadata": {},
     "output_type": "execute_result"
    }
   ],
   "source": [
    "%%sql\n",
    "-- A circle within a circle\n",
    "SELECT ST_Contains(smallc, bigc) As small_contains_big,\n",
    "    ST_Contains(bigc,smallc) As bigcontainssmall,\n",
    "    ST_Contains(bigc, ST_Union(smallc, bigc)) as big_contains_union,\n",
    "    ST_Equals(bigc, ST_Union(smallc, bigc)) as big_is_union,\n",
    "    ST_Covers(bigc, ST_ExteriorRing(bigc)) As big_covers_exterior,\n",
    "    ST_Contains(bigc, ST_ExteriorRing(bigc)) As big_contains_exterior\n",
    "FROM (SELECT ST_Buffer(ST_GeomFromText('POINT(1 2)'), 10) As smallc,\n",
    "      ST_Buffer(ST_GeomFromText('POINT(1 2)'), 20) As bigc) As foo;"
   ]
  },
  {
   "cell_type": "markdown",
   "metadata": {},
   "source": [
    "[`ST_Distance`](https://postgis.net/docs/ST_Distance.html) finds distance between two geometric objects. \n",
    "\n",
    "Note: Measures in WGS84 (SRID:4326) are in angular units. We need to transform geometries to other spatial references with measures of length to get the correct distances between two geometries. A much simpler way is to convert geometries to `geography` type, and the distance function will return distances in meters. \n",
    "\n",
    "This is an example getting the distance between *Illini Union* and *Main Library* of UIUC campus in meters."
   ]
  },
  {
   "cell_type": "code",
   "execution_count": 51,
   "metadata": {},
   "outputs": [
    {
     "name": "stdout",
     "output_type": "stream",
     "text": [
      " * postgresql://localhost:5432/postgisdemo\n",
      "1 rows affected.\n"
     ]
    },
    {
     "data": {
      "text/html": [
       "<table>\n",
       "    <tr>\n",
       "        <th>st_distance</th>\n",
       "    </tr>\n",
       "    <tr>\n",
       "        <td>423.09222859</td>\n",
       "    </tr>\n",
       "</table>"
      ],
      "text/plain": [
       "[(423.09222859,)]"
      ]
     },
     "execution_count": 51,
     "metadata": {},
     "output_type": "execute_result"
    }
   ],
   "source": [
    "%%sql\n",
    "WITH iu as\n",
    "(\n",
    "    SELECT geom::geography as g\n",
    "    FROM uiuc_plg\n",
    "    WHERE name like '%Illini%Union%'\n",
    "    LIMIT 1\n",
    "),\n",
    "library as\n",
    "(\n",
    "    SELECT geom::geography as g\n",
    "    FROM uiuc_plg\n",
    "    WHERE name like '%Main%Lib%'\n",
    "    LIMIT 1\n",
    ")\n",
    "SELECT ST_Distance(iu.g, library.g) from iu, library"
   ]
  },
  {
   "cell_type": "markdown",
   "metadata": {},
   "source": [
    "[`ST_DWithin`](https://postgis.net/docs/ST_DWithin.html) returns true if the geometries are within the specified distance of one another.\n",
    "\n",
    "With this function, we could find all the bus stops within 200 meters of *Main Library*, and find bus routes that serve those bus stops. "
   ]
  },
  {
   "cell_type": "code",
   "execution_count": 52,
   "metadata": {},
   "outputs": [
    {
     "name": "stdout",
     "output_type": "stream",
     "text": [
      " * postgresql://localhost:5432/postgisdemo\n",
      "7 rows affected.\n"
     ]
    },
    {
     "data": {
      "text/html": [
       "<table>\n",
       "    <tr>\n",
       "        <th>name</th>\n",
       "        <th>st_astext</th>\n",
       "    </tr>\n",
       "    <tr>\n",
       "        <td>Gregory at Library</td>\n",
       "        <td>POINT(-88.2286696 40.1040592)</td>\n",
       "    </tr>\n",
       "    <tr>\n",
       "        <td>Gregory at Library</td>\n",
       "        <td>POINT(-88.2289209 40.1042679)</td>\n",
       "    </tr>\n",
       "    <tr>\n",
       "        <td>Armory &amp; Wright</td>\n",
       "        <td>POINT(-88.2287541 40.1056761)</td>\n",
       "    </tr>\n",
       "    <tr>\n",
       "        <td>Sixth &amp; Armory</td>\n",
       "        <td>POINT(-88.2303615 40.1055564)</td>\n",
       "    </tr>\n",
       "    <tr>\n",
       "        <td>Sixth &amp; Armory</td>\n",
       "        <td>POINT(-88.2302028 40.1052833)</td>\n",
       "    </tr>\n",
       "    <tr>\n",
       "        <td>Sixth &amp; Gregory</td>\n",
       "        <td>POINT(-88.2303608 40.1042716)</td>\n",
       "    </tr>\n",
       "    <tr>\n",
       "        <td>Sixth &amp; Gregory</td>\n",
       "        <td>POINT(-88.2301902 40.1040009)</td>\n",
       "    </tr>\n",
       "</table>"
      ],
      "text/plain": [
       "[('Gregory at Library', 'POINT(-88.2286696 40.1040592)'),\n",
       " ('Gregory at Library', 'POINT(-88.2289209 40.1042679)'),\n",
       " ('Armory & Wright', 'POINT(-88.2287541 40.1056761)'),\n",
       " ('Sixth & Armory', 'POINT(-88.2303615 40.1055564)'),\n",
       " ('Sixth & Armory', 'POINT(-88.2302028 40.1052833)'),\n",
       " ('Sixth & Gregory', 'POINT(-88.2303608 40.1042716)'),\n",
       " ('Sixth & Gregory', 'POINT(-88.2301902 40.1040009)')]"
      ]
     },
     "execution_count": 52,
     "metadata": {},
     "output_type": "execute_result"
    }
   ],
   "source": [
    "%%sql \n",
    "SELECT name, ST_AsText(geom)\n",
    "FROM uiuc_pts a, \n",
    "    (\n",
    "        SELECT geom::geography as g\n",
    "        FROM uiuc_plg\n",
    "        WHERE name like '%Main%Lib%'\n",
    "        LIMIT 1\n",
    "    ) ml\n",
    "WHERE ST_DWithin(ml.g, a.geom::geography, 200) and a.type = 'bus_stop'"
   ]
  },
  {
   "cell_type": "code",
   "execution_count": 53,
   "metadata": {},
   "outputs": [
    {
     "name": "stdout",
     "output_type": "stream",
     "text": [
      " * postgresql://localhost:5432/postgisdemo\n",
      "40 rows affected.\n"
     ]
    },
    {
     "data": {
      "text/html": [
       "<table>\n",
       "    <tr>\n",
       "        <th>bus_stop</th>\n",
       "        <th>route</th>\n",
       "    </tr>\n",
       "    <tr>\n",
       "        <td>Armory &amp; Wright</td>\n",
       "        <td>MTD 13N Silver Weekday - Daytime</td>\n",
       "    </tr>\n",
       "    <tr>\n",
       "        <td>Armory &amp; Wright</td>\n",
       "        <td>MTD 1N Yellow Weekday - Day</td>\n",
       "    </tr>\n",
       "    <tr>\n",
       "        <td>Armory &amp; Wright</td>\n",
       "        <td>MTD 21 Raven Weekday - Daytime</td>\n",
       "    </tr>\n",
       "    <tr>\n",
       "        <td>Armory &amp; Wright</td>\n",
       "        <td>MTD 22N Illini Weekday - Daytime</td>\n",
       "    </tr>\n",
       "    <tr>\n",
       "        <td>Armory &amp; Wright</td>\n",
       "        <td>MTD 4E Blue - Weekday Daytime</td>\n",
       "    </tr>\n",
       "    <tr>\n",
       "        <td>Armory &amp; Wright</td>\n",
       "        <td>MTD 8W Bronze Weekday - Daytime</td>\n",
       "    </tr>\n",
       "    <tr>\n",
       "        <td>Armory &amp; Wright</td>\n",
       "        <td>MTD 9B Brown Weekday - Daytime</td>\n",
       "    </tr>\n",
       "    <tr>\n",
       "        <td>Gregory at Library</td>\n",
       "        <td>MTD 10E Gold Weekday - Daytime</td>\n",
       "    </tr>\n",
       "    <tr>\n",
       "        <td>Gregory at Library</td>\n",
       "        <td>MTD 10W Gold Weekday - Daytime</td>\n",
       "    </tr>\n",
       "    <tr>\n",
       "        <td>Gregory at Library</td>\n",
       "        <td>MTD 13N Silver Weekday - Daytime</td>\n",
       "    </tr>\n",
       "    <tr>\n",
       "        <td>Gregory at Library</td>\n",
       "        <td>MTD 13S Silver Weekday - Daytime</td>\n",
       "    </tr>\n",
       "    <tr>\n",
       "        <td>Gregory at Library</td>\n",
       "        <td>MTD 22N Illini Weekday - Daytime</td>\n",
       "    </tr>\n",
       "    <tr>\n",
       "        <td>Gregory at Library</td>\n",
       "        <td>MTD 22S Illini Weekday - Daytime</td>\n",
       "    </tr>\n",
       "    <tr>\n",
       "        <td>Gregory at Library</td>\n",
       "        <td>MTD 5E Green Express Weekday</td>\n",
       "    </tr>\n",
       "    <tr>\n",
       "        <td>Gregory at Library</td>\n",
       "        <td>MTD 5W Green Express Weekday</td>\n",
       "    </tr>\n",
       "    <tr>\n",
       "        <td>Sixth &amp; Armory</td>\n",
       "        <td>MTD 13N Silver Weekday - Daytime</td>\n",
       "    </tr>\n",
       "    <tr>\n",
       "        <td>Sixth &amp; Armory</td>\n",
       "        <td>MTD 13S Silver Weekday - Daytime</td>\n",
       "    </tr>\n",
       "    <tr>\n",
       "        <td>Sixth &amp; Armory</td>\n",
       "        <td>MTD 1N Yellow Weekday - Day</td>\n",
       "    </tr>\n",
       "    <tr>\n",
       "        <td>Sixth &amp; Armory</td>\n",
       "        <td>MTD 1S Yellow Weekday - Day</td>\n",
       "    </tr>\n",
       "    <tr>\n",
       "        <td>Sixth &amp; Armory</td>\n",
       "        <td>MTD 21 Raven Weekday - Daytime</td>\n",
       "    </tr>\n",
       "    <tr>\n",
       "        <td>Sixth &amp; Armory</td>\n",
       "        <td>MTD 22N Illini Weekday - Daytime</td>\n",
       "    </tr>\n",
       "    <tr>\n",
       "        <td>Sixth &amp; Armory</td>\n",
       "        <td>MTD 4E Blue - Weekday Daytime</td>\n",
       "    </tr>\n",
       "    <tr>\n",
       "        <td>Sixth &amp; Armory</td>\n",
       "        <td>MTD 4W Blue Weekday - Daytime</td>\n",
       "    </tr>\n",
       "    <tr>\n",
       "        <td>Sixth &amp; Armory</td>\n",
       "        <td>MTD 8W Bronze Weekday - Daytime</td>\n",
       "    </tr>\n",
       "    <tr>\n",
       "        <td>Sixth &amp; Armory</td>\n",
       "        <td>MTD 9A Brown Weekday - Daytime</td>\n",
       "    </tr>\n",
       "    <tr>\n",
       "        <td>Sixth &amp; Armory</td>\n",
       "        <td>MTD 9B Brown Weekday - Daytime</td>\n",
       "    </tr>\n",
       "    <tr>\n",
       "        <td>Sixth &amp; Gregory</td>\n",
       "        <td>MTD 10E Gold Weekday - Daytime</td>\n",
       "    </tr>\n",
       "    <tr>\n",
       "        <td>Sixth &amp; Gregory</td>\n",
       "        <td>MTD 10W Gold Weekday - Daytime</td>\n",
       "    </tr>\n",
       "    <tr>\n",
       "        <td>Sixth &amp; Gregory</td>\n",
       "        <td>MTD 13N Silver Weekday - Daytime</td>\n",
       "    </tr>\n",
       "    <tr>\n",
       "        <td>Sixth &amp; Gregory</td>\n",
       "        <td>MTD 13S Silver Weekday - Daytime</td>\n",
       "    </tr>\n",
       "    <tr>\n",
       "        <td>Sixth &amp; Gregory</td>\n",
       "        <td>MTD 1S Yellow Weekday - Day</td>\n",
       "    </tr>\n",
       "    <tr>\n",
       "        <td>Sixth &amp; Gregory</td>\n",
       "        <td>MTD 21 Raven Weekday - Daytime</td>\n",
       "    </tr>\n",
       "    <tr>\n",
       "        <td>Sixth &amp; Gregory</td>\n",
       "        <td>MTD 22N Illini Weekday - Daytime</td>\n",
       "    </tr>\n",
       "    <tr>\n",
       "        <td>Sixth &amp; Gregory</td>\n",
       "        <td>MTD 22S Illini Weekday - Daytime</td>\n",
       "    </tr>\n",
       "    <tr>\n",
       "        <td>Sixth &amp; Gregory</td>\n",
       "        <td>MTD 4E Blue - Weekday Daytime</td>\n",
       "    </tr>\n",
       "    <tr>\n",
       "        <td>Sixth &amp; Gregory</td>\n",
       "        <td>MTD 4W Blue Weekday - Daytime</td>\n",
       "    </tr>\n",
       "    <tr>\n",
       "        <td>Sixth &amp; Gregory</td>\n",
       "        <td>MTD 5E Green Express Weekday</td>\n",
       "    </tr>\n",
       "    <tr>\n",
       "        <td>Sixth &amp; Gregory</td>\n",
       "        <td>MTD 5W Green Express Weekday</td>\n",
       "    </tr>\n",
       "    <tr>\n",
       "        <td>Sixth &amp; Gregory</td>\n",
       "        <td>MTD 9A Brown Weekday - Daytime</td>\n",
       "    </tr>\n",
       "    <tr>\n",
       "        <td>Sixth &amp; Gregory</td>\n",
       "        <td>MTD 9B Brown Weekday - Daytime</td>\n",
       "    </tr>\n",
       "</table>"
      ],
      "text/plain": [
       "[('Armory & Wright', 'MTD 13N Silver Weekday - Daytime'),\n",
       " ('Armory & Wright', 'MTD 1N Yellow Weekday - Day'),\n",
       " ('Armory & Wright', 'MTD 21 Raven Weekday - Daytime'),\n",
       " ('Armory & Wright', 'MTD 22N Illini Weekday - Daytime'),\n",
       " ('Armory & Wright', 'MTD 4E Blue - Weekday Daytime'),\n",
       " ('Armory & Wright', 'MTD 8W Bronze Weekday - Daytime'),\n",
       " ('Armory & Wright', 'MTD 9B Brown Weekday - Daytime'),\n",
       " ('Gregory at Library', 'MTD 10E Gold Weekday - Daytime'),\n",
       " ('Gregory at Library', 'MTD 10W Gold Weekday - Daytime'),\n",
       " ('Gregory at Library', 'MTD 13N Silver Weekday - Daytime'),\n",
       " ('Gregory at Library', 'MTD 13S Silver Weekday - Daytime'),\n",
       " ('Gregory at Library', 'MTD 22N Illini Weekday - Daytime'),\n",
       " ('Gregory at Library', 'MTD 22S Illini Weekday - Daytime'),\n",
       " ('Gregory at Library', 'MTD 5E Green Express Weekday'),\n",
       " ('Gregory at Library', 'MTD 5W Green Express Weekday'),\n",
       " ('Sixth & Armory', 'MTD 13N Silver Weekday - Daytime'),\n",
       " ('Sixth & Armory', 'MTD 13S Silver Weekday - Daytime'),\n",
       " ('Sixth & Armory', 'MTD 1N Yellow Weekday - Day'),\n",
       " ('Sixth & Armory', 'MTD 1S Yellow Weekday - Day'),\n",
       " ('Sixth & Armory', 'MTD 21 Raven Weekday - Daytime'),\n",
       " ('Sixth & Armory', 'MTD 22N Illini Weekday - Daytime'),\n",
       " ('Sixth & Armory', 'MTD 4E Blue - Weekday Daytime'),\n",
       " ('Sixth & Armory', 'MTD 4W Blue Weekday - Daytime'),\n",
       " ('Sixth & Armory', 'MTD 8W Bronze Weekday - Daytime'),\n",
       " ('Sixth & Armory', 'MTD 9A Brown Weekday - Daytime'),\n",
       " ('Sixth & Armory', 'MTD 9B Brown Weekday - Daytime'),\n",
       " ('Sixth & Gregory', 'MTD 10E Gold Weekday - Daytime'),\n",
       " ('Sixth & Gregory', 'MTD 10W Gold Weekday - Daytime'),\n",
       " ('Sixth & Gregory', 'MTD 13N Silver Weekday - Daytime'),\n",
       " ('Sixth & Gregory', 'MTD 13S Silver Weekday - Daytime'),\n",
       " ('Sixth & Gregory', 'MTD 1S Yellow Weekday - Day'),\n",
       " ('Sixth & Gregory', 'MTD 21 Raven Weekday - Daytime'),\n",
       " ('Sixth & Gregory', 'MTD 22N Illini Weekday - Daytime'),\n",
       " ('Sixth & Gregory', 'MTD 22S Illini Weekday - Daytime'),\n",
       " ('Sixth & Gregory', 'MTD 4E Blue - Weekday Daytime'),\n",
       " ('Sixth & Gregory', 'MTD 4W Blue Weekday - Daytime'),\n",
       " ('Sixth & Gregory', 'MTD 5E Green Express Weekday'),\n",
       " ('Sixth & Gregory', 'MTD 5W Green Express Weekday'),\n",
       " ('Sixth & Gregory', 'MTD 9A Brown Weekday - Daytime'),\n",
       " ('Sixth & Gregory', 'MTD 9B Brown Weekday - Daytime')]"
      ]
     },
     "execution_count": 53,
     "metadata": {},
     "output_type": "execute_result"
    }
   ],
   "source": [
    "%%sql\n",
    "With mlib_bus_stop as (\n",
    "    SELECT DISTINCT name, geom g\n",
    "    FROM uiuc_pts a, (\n",
    "            SELECT geom::geography as g\n",
    "            FROM uiuc_plg\n",
    "            WHERE name like '%Main%Lib%'\n",
    "            LIMIT 1 ) ml\n",
    "    WHERE ST_DWithin(ml.g, a.geom::geography, 200) and a.type = 'bus_stop'\n",
    ")\n",
    "SELECT DISTINCT a.name bus_stop, b.name route\n",
    "FROM mlib_bus_stop a, uiuc_bus b\n",
    "WHERE ST_DWithin(a.g, b.geom::geography, 15)"
   ]
  },
  {
   "cell_type": "markdown",
   "metadata": {},
   "source": [
    "The inherent table `geometry_columns` keeps track of every column of `geometry` type in the database. "
   ]
  },
  {
   "cell_type": "code",
   "execution_count": 54,
   "metadata": {},
   "outputs": [
    {
     "name": "stdout",
     "output_type": "stream",
     "text": [
      " * postgresql://localhost:5432/postgisdemo\n",
      "4 rows affected.\n"
     ]
    },
    {
     "data": {
      "text/html": [
       "<table>\n",
       "    <tr>\n",
       "        <th>f_table_catalog</th>\n",
       "        <th>f_table_schema</th>\n",
       "        <th>f_table_name</th>\n",
       "        <th>f_geometry_column</th>\n",
       "        <th>coord_dimension</th>\n",
       "        <th>srid</th>\n",
       "        <th>type</th>\n",
       "    </tr>\n",
       "    <tr>\n",
       "        <td>postgisdemo</td>\n",
       "        <td>public</td>\n",
       "        <td>uiuc_bus</td>\n",
       "        <td>geom</td>\n",
       "        <td>2</td>\n",
       "        <td>4326</td>\n",
       "        <td>MULTILINESTRING</td>\n",
       "    </tr>\n",
       "    <tr>\n",
       "        <td>postgisdemo</td>\n",
       "        <td>public</td>\n",
       "        <td>uiuc_plg</td>\n",
       "        <td>geom</td>\n",
       "        <td>2</td>\n",
       "        <td>4326</td>\n",
       "        <td>GEOMETRY</td>\n",
       "    </tr>\n",
       "    <tr>\n",
       "        <td>postgisdemo</td>\n",
       "        <td>public</td>\n",
       "        <td>gis_example</td>\n",
       "        <td>geom</td>\n",
       "        <td>2</td>\n",
       "        <td>0</td>\n",
       "        <td>GEOMETRY</td>\n",
       "    </tr>\n",
       "    <tr>\n",
       "        <td>postgisdemo</td>\n",
       "        <td>public</td>\n",
       "        <td>uiuc_pts</td>\n",
       "        <td>geom</td>\n",
       "        <td>2</td>\n",
       "        <td>4326</td>\n",
       "        <td>POINT</td>\n",
       "    </tr>\n",
       "</table>"
      ],
      "text/plain": [
       "[('postgisdemo', 'public', 'uiuc_bus', 'geom', 2, 4326, 'MULTILINESTRING'),\n",
       " ('postgisdemo', 'public', 'uiuc_plg', 'geom', 2, 4326, 'GEOMETRY'),\n",
       " ('postgisdemo', 'public', 'gis_example', 'geom', 2, 0, 'GEOMETRY'),\n",
       " ('postgisdemo', 'public', 'uiuc_pts', 'geom', 2, 4326, 'POINT')]"
      ]
     },
     "execution_count": 54,
     "metadata": {},
     "output_type": "execute_result"
    }
   ],
   "source": [
    "%sql select * from geometry_columns"
   ]
  },
  {
   "cell_type": "markdown",
   "metadata": {},
   "source": [
    "## 4. Sptial Indexing\n",
    "\n",
    "Indexes are what make using a spatial database for large data sets possible. Without indexing, any search for a feature would require a \"sequential scan\" of every record in the database. Indexing speeds up searching by organizing the data into a search tree which can be quickly traversed to find a particular record. PostgreSQL supports three kinds of indexes by default: B-Tree indexes, SP-GiST and GiST indexes."
   ]
  },
  {
   "cell_type": "markdown",
   "metadata": {},
   "source": [
    "We can see all the indices that are created on our database. "
   ]
  },
  {
   "cell_type": "code",
   "execution_count": 55,
   "metadata": {},
   "outputs": [
    {
     "name": "stdout",
     "output_type": "stream",
     "text": [
      " * postgresql://localhost:5432/postgisdemo\n",
      "5 rows affected.\n"
     ]
    },
    {
     "data": {
      "text/html": [
       "<table>\n",
       "    <tr>\n",
       "        <th>schemaname</th>\n",
       "        <th>tablename</th>\n",
       "        <th>indexname</th>\n",
       "        <th>tablespace</th>\n",
       "        <th>indexdef</th>\n",
       "    </tr>\n",
       "    <tr>\n",
       "        <td>public</td>\n",
       "        <td>uiuc_bus</td>\n",
       "        <td>uiuc_bus_pkey</td>\n",
       "        <td>None</td>\n",
       "        <td>CREATE UNIQUE INDEX uiuc_bus_pkey ON public.uiuc_bus USING btree (id)</td>\n",
       "    </tr>\n",
       "    <tr>\n",
       "        <td>public</td>\n",
       "        <td>gis_example</td>\n",
       "        <td>gis_example_pkey</td>\n",
       "        <td>None</td>\n",
       "        <td>CREATE UNIQUE INDEX gis_example_pkey ON public.gis_example USING btree (id)</td>\n",
       "    </tr>\n",
       "    <tr>\n",
       "        <td>public</td>\n",
       "        <td>spatial_ref_sys</td>\n",
       "        <td>spatial_ref_sys_pkey</td>\n",
       "        <td>None</td>\n",
       "        <td>CREATE UNIQUE INDEX spatial_ref_sys_pkey ON public.spatial_ref_sys USING btree (srid)</td>\n",
       "    </tr>\n",
       "    <tr>\n",
       "        <td>public</td>\n",
       "        <td>uiuc_pts</td>\n",
       "        <td>uiuc_pts_pkey</td>\n",
       "        <td>None</td>\n",
       "        <td>CREATE UNIQUE INDEX uiuc_pts_pkey ON public.uiuc_pts USING btree (id)</td>\n",
       "    </tr>\n",
       "    <tr>\n",
       "        <td>public</td>\n",
       "        <td>uiuc_plg</td>\n",
       "        <td>uiuc_plg_pkey</td>\n",
       "        <td>None</td>\n",
       "        <td>CREATE UNIQUE INDEX uiuc_plg_pkey ON public.uiuc_plg USING btree (id)</td>\n",
       "    </tr>\n",
       "</table>"
      ],
      "text/plain": [
       "[('public', 'uiuc_bus', 'uiuc_bus_pkey', None, 'CREATE UNIQUE INDEX uiuc_bus_pkey ON public.uiuc_bus USING btree (id)'),\n",
       " ('public', 'gis_example', 'gis_example_pkey', None, 'CREATE UNIQUE INDEX gis_example_pkey ON public.gis_example USING btree (id)'),\n",
       " ('public', 'spatial_ref_sys', 'spatial_ref_sys_pkey', None, 'CREATE UNIQUE INDEX spatial_ref_sys_pkey ON public.spatial_ref_sys USING btree (srid)'),\n",
       " ('public', 'uiuc_pts', 'uiuc_pts_pkey', None, 'CREATE UNIQUE INDEX uiuc_pts_pkey ON public.uiuc_pts USING btree (id)'),\n",
       " ('public', 'uiuc_plg', 'uiuc_plg_pkey', None, 'CREATE UNIQUE INDEX uiuc_plg_pkey ON public.uiuc_plg USING btree (id)')]"
      ]
     },
     "execution_count": 55,
     "metadata": {},
     "output_type": "execute_result"
    }
   ],
   "source": [
    "%sql SELECT * FROM pg_indexes WHERE schemaname = 'public'"
   ]
  },
  {
   "cell_type": "markdown",
   "metadata": {},
   "source": [
    "However, we find out that the spatial index is not automatically generated. \n",
    "\n",
    "In this section, we will see how spatial index will help accelerate our spatial queries. "
   ]
  },
  {
   "cell_type": "markdown",
   "metadata": {},
   "source": [
    "### 4.1 No sptial index"
   ]
  },
  {
   "cell_type": "code",
   "execution_count": 56,
   "metadata": {},
   "outputs": [
    {
     "name": "stdout",
     "output_type": "stream",
     "text": [
      " * postgresql://localhost:5432/postgisdemo\n",
      "Done.\n"
     ]
    },
    {
     "data": {
      "text/plain": [
       "[]"
      ]
     },
     "execution_count": 56,
     "metadata": {},
     "output_type": "execute_result"
    }
   ],
   "source": [
    "%sql DROP INDEX IF EXISTS pts_idx;"
   ]
  },
  {
   "cell_type": "code",
   "execution_count": 57,
   "metadata": {},
   "outputs": [
    {
     "name": "stdout",
     "output_type": "stream",
     "text": [
      " * postgresql://localhost:5432/postgisdemo\n",
      "0 rows affected.\n",
      "Returning data to local variable bus_res\n",
      "CPU times: user 2.7 ms, sys: 1.34 ms, total: 4.04 ms\n",
      "Wall time: 3.9 ms\n"
     ]
    }
   ],
   "source": [
    "%%time\n",
    "%%sql bus_res <<\n",
    "SELECT DISTINCT a.name bus_stop, b.name route\n",
    "FROM uiuc_pts a, uiuc_bus b\n",
    "WHERE ST_DWithin(a.geog, b.geog, 15)"
   ]
  },
  {
   "cell_type": "markdown",
   "metadata": {},
   "source": [
    "### 4.2 GiST (Generalized Search Tree) Indexes"
   ]
  },
  {
   "cell_type": "code",
   "execution_count": 58,
   "metadata": {
    "scrolled": true
   },
   "outputs": [
    {
     "name": "stdout",
     "output_type": "stream",
     "text": [
      " * postgresql://localhost:5432/postgisdemo\n",
      "Done.\n",
      "Done.\n"
     ]
    },
    {
     "data": {
      "text/plain": [
       "[]"
      ]
     },
     "execution_count": 58,
     "metadata": {},
     "output_type": "execute_result"
    }
   ],
   "source": [
    "%%sql\n",
    "DROP INDEX IF EXISTS pts_idx;\n",
    "CREATE INDEX pts_idx_spgist ON uiuc_pts USING GIST(geog);"
   ]
  },
  {
   "cell_type": "code",
   "execution_count": 59,
   "metadata": {},
   "outputs": [
    {
     "name": "stdout",
     "output_type": "stream",
     "text": [
      " * postgresql://localhost:5432/postgisdemo\n",
      "0 rows affected.\n",
      "Returning data to local variable bus_res\n",
      "CPU times: user 2.54 ms, sys: 1.32 ms, total: 3.86 ms\n",
      "Wall time: 3.1 ms\n"
     ]
    }
   ],
   "source": [
    "%%time\n",
    "%%sql bus_res <<\n",
    "SELECT DISTINCT a.name bus_stop, b.name route\n",
    "FROM uiuc_pts a, uiuc_bus b\n",
    "WHERE ST_DWithin(a.geog, b.geog, 15)"
   ]
  },
  {
   "cell_type": "markdown",
   "metadata": {},
   "source": [
    "### 4.3 BRIN (Block Range Index) Indexes"
   ]
  },
  {
   "cell_type": "code",
   "execution_count": 60,
   "metadata": {},
   "outputs": [
    {
     "name": "stdout",
     "output_type": "stream",
     "text": [
      " * postgresql://localhost:5432/postgisdemo\n",
      "Done.\n",
      "Done.\n"
     ]
    },
    {
     "data": {
      "text/plain": [
       "[]"
      ]
     },
     "execution_count": 60,
     "metadata": {},
     "output_type": "execute_result"
    }
   ],
   "source": [
    "%%sql\n",
    "DROP INDEX IF EXISTS pts_idx;\n",
    "CREATE INDEX pts_idx ON uiuc_pts USING BRIN(geog);"
   ]
  },
  {
   "cell_type": "code",
   "execution_count": 61,
   "metadata": {},
   "outputs": [
    {
     "name": "stdout",
     "output_type": "stream",
     "text": [
      " * postgresql://localhost:5432/postgisdemo\n",
      "0 rows affected.\n",
      "Returning data to local variable bus_res\n",
      "CPU times: user 2.43 ms, sys: 1.42 ms, total: 3.85 ms\n",
      "Wall time: 2.98 ms\n"
     ]
    }
   ],
   "source": [
    "%%time\n",
    "%%sql bus_res <<\n",
    "SELECT DISTINCT a.name bus_stop, b.name route\n",
    "FROM uiuc_pts a, uiuc_bus b\n",
    "WHERE ST_DWithin(a.geog, b.geog, 15)"
   ]
  },
  {
   "cell_type": "markdown",
   "metadata": {},
   "source": [
    "### 4.4 SP-GiST (Space-Partitioned Generalized Search Tree) Indexes"
   ]
  },
  {
   "cell_type": "code",
   "execution_count": 62,
   "metadata": {},
   "outputs": [
    {
     "name": "stdout",
     "output_type": "stream",
     "text": [
      " * postgresql://localhost:5432/postgisdemo\n",
      "Done.\n",
      "Done.\n"
     ]
    },
    {
     "data": {
      "text/plain": [
       "[]"
      ]
     },
     "execution_count": 62,
     "metadata": {},
     "output_type": "execute_result"
    }
   ],
   "source": [
    "%%sql\n",
    "DROP INDEX IF EXISTS pts_idx;\n",
    "CREATE INDEX pts_idx ON uiuc_pts USING SPGIST(geog);"
   ]
  },
  {
   "cell_type": "code",
   "execution_count": 63,
   "metadata": {},
   "outputs": [
    {
     "name": "stdout",
     "output_type": "stream",
     "text": [
      " * postgresql://localhost:5432/postgisdemo\n",
      "0 rows affected.\n",
      "Returning data to local variable bus_res\n",
      "CPU times: user 2.97 ms, sys: 1.46 ms, total: 4.43 ms\n",
      "Wall time: 3.51 ms\n"
     ]
    }
   ],
   "source": [
    "%%time\n",
    "%%sql bus_res <<\n",
    "SELECT DISTINCT a.name bus_stop, b.name route\n",
    "FROM uiuc_pts a, uiuc_bus b\n",
    "WHERE ST_DWithin(a.geog, b.geog, 15)"
   ]
  }
 ],
 "metadata": {
  "kernelspec": {
   "display_name": "Python 3.7.5 64-bit ('New37': conda)",
   "language": "python",
   "name": "python37564bitnew37conda0c1d40807515450d89777f443db85dea"
  },
  "language_info": {
   "codemirror_mode": {
    "name": "ipython",
    "version": 3
   },
   "file_extension": ".py",
   "mimetype": "text/x-python",
   "name": "python",
   "nbconvert_exporter": "python",
   "pygments_lexer": "ipython3",
   "version": "3.7.5"
  }
 },
 "nbformat": 4,
 "nbformat_minor": 2
}
