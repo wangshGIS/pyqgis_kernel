{
 "cells": [
  {
   "cell_type": "code",
   "execution_count": 16,
   "metadata": {},
   "outputs": [],
   "source": [
    "#!conda install -y -c conda-forge sqlalchemy-utils\n",
    "#!pip install sql_magic\n",
    "import os\n",
    "#set PGDATA\n",
    "os.environ[\"PGDATA\"] = \"./pgdata\""
   ]
  },
  {
   "cell_type": "code",
   "execution_count": 17,
   "metadata": {},
   "outputs": [
    {
     "name": "stdout",
     "output_type": "stream",
     "text": [
      "The sql_magic extension is already loaded. To reload it, use:\n",
      "  %reload_ext sql_magic\n"
     ]
    }
   ],
   "source": [
    "# Load libraries\n",
    "from sqlalchemy import create_engine\n",
    "from sqlalchemy_utils import create_database, database_exists, drop_database\n",
    "\n",
    "# Create PostgreSQL connection\n",
    "engine = create_engine(\"postgres://localhost/notes_db\")\n",
    "\n",
    "# Load sql_magic so we can write SQL in Jupyter Notebooks\n",
    "%load_ext sql_magic\n",
    "\n",
    "# Setup SQL connection to the postgreSQL engine we created\n",
    "%config SQL.conn_name = 'engine'"
   ]
  },
  {
   "cell_type": "code",
   "execution_count": 18,
   "metadata": {},
   "outputs": [],
   "source": [
    "# If a PostgreSQL database with this name exists\n",
    "if database_exists(engine.url):\n",
    "    # Delete PostgreSQL database \n",
    "    drop_database(engine.url)\n",
    "    # Create empty PostgreSQL database\n",
    "    create_database(engine.url)\n",
    "# Otherwise\n",
    "else:\n",
    "    # Create empty PostgreSQL database\n",
    "    create_database(engine.url)"
   ]
  },
  {
   "cell_type": "code",
   "execution_count": 19,
   "metadata": {},
   "outputs": [
    {
     "name": "stdout",
     "output_type": "stream",
     "text": [
      "Query started at 03:54:00 PM UTC; Query executed in 0.00 m"
     ]
    }
   ],
   "source": [
    "%%read_sql -d\n",
    "\n",
    "CREATE TABLE staff ( \n",
    "    first_name varchar(255), \n",
    "    city_name varchar(255),\n",
    "    age int\n",
    ");"
   ]
  },
  {
   "cell_type": "code",
   "execution_count": 20,
   "metadata": {},
   "outputs": [
    {
     "name": "stdout",
     "output_type": "stream",
     "text": [
      "Query started at 03:54:00 PM UTC; Query executed in 0.00 m"
     ]
    }
   ],
   "source": [
    "%%read_sql -d \n",
    "\n",
    "INSERT INTO staff (first_name, city_name, age) \n",
    "VALUES ('Jill', 'Miller', 30),\n",
    "       ('Steve', 'Miller', 24),\n",
    "       ('Sarah', 'Jackson', 25);"
   ]
  },
  {
   "cell_type": "code",
   "execution_count": 24,
   "metadata": {},
   "outputs": [
    {
     "name": "stdout",
     "output_type": "stream",
     "text": [
      "Query started at 07:22:35 PM UTC; Query executed in 0.00 m"
     ]
    },
    {
     "data": {
      "text/html": [
       "<div>\n",
       "<style scoped>\n",
       "    .dataframe tbody tr th:only-of-type {\n",
       "        vertical-align: middle;\n",
       "    }\n",
       "\n",
       "    .dataframe tbody tr th {\n",
       "        vertical-align: top;\n",
       "    }\n",
       "\n",
       "    .dataframe thead th {\n",
       "        text-align: right;\n",
       "    }\n",
       "</style>\n",
       "<table border=\"1\" class=\"dataframe\">\n",
       "  <thead>\n",
       "    <tr style=\"text-align: right;\">\n",
       "      <th></th>\n",
       "      <th>first_name</th>\n",
       "      <th>city_name</th>\n",
       "      <th>age</th>\n",
       "    </tr>\n",
       "  </thead>\n",
       "  <tbody>\n",
       "    <tr>\n",
       "      <th>0</th>\n",
       "      <td>Jill</td>\n",
       "      <td>Miller</td>\n",
       "      <td>30</td>\n",
       "    </tr>\n",
       "    <tr>\n",
       "      <th>1</th>\n",
       "      <td>Steve</td>\n",
       "      <td>Miller</td>\n",
       "      <td>24</td>\n",
       "    </tr>\n",
       "    <tr>\n",
       "      <th>2</th>\n",
       "      <td>Sarah</td>\n",
       "      <td>Jackson</td>\n",
       "      <td>25</td>\n",
       "    </tr>\n",
       "  </tbody>\n",
       "</table>\n",
       "</div>"
      ],
      "text/plain": [
       "  first_name city_name  age\n",
       "0       Jill    Miller   30\n",
       "1      Steve    Miller   24\n",
       "2      Sarah   Jackson   25"
      ]
     },
     "execution_count": 24,
     "metadata": {},
     "output_type": "execute_result"
    }
   ],
   "source": [
    "%%read_sql\n",
    "\n",
    "-- Select all records from the staff table\n",
    "SELECT * FROM staff;"
   ]
  },
  {
   "cell_type": "code",
   "execution_count": 22,
   "metadata": {},
   "outputs": [],
   "source": [
    "%reload_ext postgis"
   ]
  },
  {
   "cell_type": "code",
   "execution_count": 23,
   "metadata": {},
   "outputs": [],
   "source": [
    "import psycopg2\n",
    "from postgis import LineString\n",
    "from postgis.psycopg import register"
   ]
  },
  {
   "cell_type": "code",
   "execution_count": null,
   "metadata": {},
   "outputs": [],
   "source": []
  },
  {
   "cell_type": "code",
   "execution_count": null,
   "metadata": {},
   "outputs": [],
   "source": []
  }
 ],
 "metadata": {
  "kernelspec": {
   "display_name": "Python 3",
   "language": "python",
   "name": "python3"
  },
  "language_info": {
   "codemirror_mode": {
    "name": "ipython",
    "version": 3
   },
   "file_extension": ".py",
   "mimetype": "text/x-python",
   "name": "python",
   "nbconvert_exporter": "python",
   "pygments_lexer": "ipython3",
   "version": "3.7.3"
  }
 },
 "nbformat": 4,
 "nbformat_minor": 2
}
